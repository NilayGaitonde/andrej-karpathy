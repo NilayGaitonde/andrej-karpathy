{
 "cells": [
  {
   "cell_type": "code",
   "execution_count": 2,
   "metadata": {},
   "outputs": [
    {
     "data": {
      "text/plain": [
       "<torch._C.Generator at 0x11bbc5570>"
      ]
     },
     "execution_count": 2,
     "metadata": {},
     "output_type": "execute_result"
    }
   ],
   "source": [
    "import torch\n",
    "import torch.nn as nn\n",
    "import torch.nn.functional as F\n",
    "import matplotlib.pyplot as plt\n",
    "torch.manual_seed(1337)"
   ]
  },
  {
   "cell_type": "code",
   "execution_count": 3,
   "metadata": {},
   "outputs": [],
   "source": [
    "with open(\"../data/input.txt\",\"r\",encoding='utf-8') as f:\n",
    "    text = f.read()"
   ]
  },
  {
   "cell_type": "code",
   "execution_count": 4,
   "metadata": {},
   "outputs": [
    {
     "data": {
      "text/plain": [
       "1115394"
      ]
     },
     "execution_count": 4,
     "metadata": {},
     "output_type": "execute_result"
    }
   ],
   "source": [
    "len(text)"
   ]
  },
  {
   "cell_type": "code",
   "execution_count": 5,
   "metadata": {},
   "outputs": [],
   "source": [
    "chars = sorted(list(set(\"\".join(text))))\n",
    "vocab_size = len(chars)"
   ]
  },
  {
   "cell_type": "code",
   "execution_count": 6,
   "metadata": {},
   "outputs": [],
   "source": [
    "stoi = {s:i for i,s in enumerate(chars)}\n",
    "itos = {i:s for s,i in stoi.items()}\n",
    "encode = lambda s:[stoi[c] for c in s]\n",
    "decode = lambda s:[itos[c] for c in s]"
   ]
  },
  {
   "cell_type": "code",
   "execution_count": 7,
   "metadata": {},
   "outputs": [
    {
     "data": {
      "text/plain": [
       "tensor([18, 47, 56, 57, 58,  1, 15, 47, 58, 47, 64, 43, 52, 10,  0, 14, 43, 44,\n",
       "        53, 56, 43,  1, 61, 43,  1, 54, 56, 53, 41, 43, 43, 42,  1, 39, 52, 63,\n",
       "         1, 44, 59, 56, 58, 46, 43, 56,  6,  1, 46, 43, 39, 56,  1, 51, 43,  1,\n",
       "        57, 54, 43, 39, 49,  8,  0,  0, 13, 50, 50, 10,  0, 31, 54, 43, 39, 49,\n",
       "         6,  1, 57, 54, 43, 39, 49,  8,  0,  0, 18, 47, 56, 57, 58,  1, 15, 47,\n",
       "        58, 47, 64, 43, 52, 10,  0, 37, 53, 59])"
      ]
     },
     "execution_count": 7,
     "metadata": {},
     "output_type": "execute_result"
    }
   ],
   "source": [
    "data = torch.tensor(encode(text))\n",
    "data[:100]"
   ]
  },
  {
   "cell_type": "code",
   "execution_count": 8,
   "metadata": {},
   "outputs": [],
   "source": [
    "n = int(0.9*len(data))\n",
    "train_data = data[:n]\n",
    "val_data = data[n:]"
   ]
  },
  {
   "cell_type": "code",
   "execution_count": 9,
   "metadata": {},
   "outputs": [],
   "source": [
    "batch_size = 4 # how many sequences to process paralelly\n",
    "context_len = 10 # how many tokens to see at a time to predict the next token\n",
    "def get_batch(split):\n",
    "    ix = torch.randint(len(split) - context_len, (batch_size,))\n",
    "    x = torch.stack([split[i:i+context_len] for i in ix])\n",
    "    y = torch.stack([split[i+1:i+context_len+1] for i in ix])\n",
    "    return x,y\n",
    "train_Xb,train_Yb = get_batch(train_data)\n",
    "val_Xb, val_Yb = get_batch(val_data)"
   ]
  },
  {
   "cell_type": "code",
   "execution_count": 10,
   "metadata": {},
   "outputs": [
    {
     "name": "stdout",
     "output_type": "stream",
     "text": [
      "torch.Size([4, 10, 65]) tensor(4.8025, grad_fn=<NllLossBackward0>)\n"
     ]
    }
   ],
   "source": [
    "class BigramLanguageModel(nn.Module):\n",
    "    def __init__(self,vocab_size):\n",
    "        super().__init__()\n",
    "        self.lookup_table = nn.Embedding(vocab_size,vocab_size)\n",
    "\n",
    "    def forward(self,idx,targets=None):\n",
    "        logits = self.lookup_table(idx)\n",
    "        B, T, C = logits.shape\n",
    "        if targets is None:\n",
    "            loss = None\n",
    "        else:\n",
    "            loss = F.cross_entropy(logits.view(B*T,C),targets.view(B*T))\n",
    "        return logits,loss\n",
    "\n",
    "    def generate(self,idx,max_new_tokens):\n",
    "        for _ in range(max_new_tokens):\n",
    "            logits,loss = self(idx)\n",
    "            logits = logits[:,-1,:] # the whole batch, the next token and the whole vocab size\n",
    "            probs = F.softmax(logits,dim=-1) # this gives us the probabilities\n",
    "            idx_next = torch.multinomial(probs,num_samples=1)\n",
    "            idx = torch.cat([idx, idx_next],dim=1)\n",
    "        return idx\n",
    "\n",
    "\n",
    "model = BigramLanguageModel(vocab_size=vocab_size)\n",
    "logits,loss = model(train_Xb,train_Yb)\n",
    "print(logits.shape,loss)"
   ]
  },
  {
   "cell_type": "code",
   "execution_count": 11,
   "metadata": {},
   "outputs": [
    {
     "name": "stdout",
     "output_type": "stream",
     "text": [
      "\n",
      "VMPFsPHSYAHIkPXroxdH.ACNM?''sBym,SG?Um-FhLZkRNsg$PrIPyXMDqA'XH.VsaT.fKxhQCWWsjkHMhsRSUaN$j?WTcK3MHMF\n"
     ]
    }
   ],
   "source": [
    "print(\"\".join(decode(model.generate(torch.zeros((1,1),dtype=torch.long),100)[0].tolist())))"
   ]
  },
  {
   "cell_type": "code",
   "execution_count": 15,
   "metadata": {},
   "outputs": [],
   "source": [
    "optimiser = torch.optim.Adam(model.parameters(), lr=1e-4)\n",
    "losses = list()"
   ]
  },
  {
   "cell_type": "code",
   "execution_count": 16,
   "metadata": {},
   "outputs": [
    {
     "name": "stdout",
     "output_type": "stream",
     "text": [
      "1:3.4757068157196045\n",
      "20001:2.8265223503112793\n",
      "40001:2.650009870529175\n",
      "60001:2.515174150466919\n",
      "80001:2.624943733215332\n",
      "100001:2.4983177185058594\n",
      "120001:2.4779529571533203\n",
      "140001:2.4902050495147705\n",
      "160001:2.449042797088623\n",
      "180001:2.4657363891601562\n",
      "10000: 2.4374592304229736\n"
     ]
    }
   ],
   "source": [
    "batch_size = 32\n",
    "for epoch in range(100000):\n",
    "    xb,yb = get_batch(train_data)\n",
    "\n",
    "    logits,loss = model(xb,yb)\n",
    "    optimiser.zero_grad(set_to_none=True)\n",
    "    losses.append(loss.item())\n",
    "    loss.backward()\n",
    "    optimiser.step()\n",
    "\n",
    "    if epoch%10000 == 0:\n",
    "        print(f\"{len(losses) + epoch}:{loss.item()}\")\n",
    "print(f\"10000: {loss.item()}\")\n"
   ]
  },
  {
   "cell_type": "code",
   "execution_count": 17,
   "metadata": {},
   "outputs": [
    {
     "data": {
      "text/plain": [
       "[<matplotlib.lines.Line2D at 0x17406a470>]"
      ]
     },
     "execution_count": 17,
     "metadata": {},
     "output_type": "execute_result"
    },
    {
     "data": {
      "image/png": "[encoded data removed]",
      "text/plain": [
       "<Figure size 640x480 with 1 Axes>"
      ]
     },
     "metadata": {},
     "output_type": "display_data"
    }
   ],
   "source": [
    "plt.plot(losses)"
   ]
  },
  {
   "cell_type": "code",
   "execution_count": 18,
   "metadata": {},
   "outputs": [
    {
     "name": "stdout",
     "output_type": "stream",
     "text": [
      "\n",
      "\n",
      "CHes t\n",
      "LI n ld we f fiourdo whouathase:\n",
      "And IUS:\n",
      "I hace pitife agrdis youre, yoroumout ofoweayound.\n",
      "MIN por the!\n",
      "TANG y\n",
      "SSThute fe irvine bl d'ly hed!\n",
      "moth meehe s! mtyousou.\n",
      "\n",
      "\n",
      "weavUCon horthoville,\n",
      "\n",
      "We wint, in?'shicimille:\n",
      "WAfod,\n",
      "TI th thendsthe is.\n",
      "TIn tofry helenderllowhe t tl't w,\n",
      "MENG eange p\n"
     ]
    }
   ],
   "source": [
    "print(\"\".join(decode(model.generate(torch.zeros((1,1),dtype=torch.long),300)[0].tolist())))"
   ]
  },
  {
   "cell_type": "code",
   "execution_count": 19,
   "metadata": {},
   "outputs": [
    {
     "data": {
      "text/plain": [
       "True"
      ]
     },
     "execution_count": 19,
     "metadata": {},
     "output_type": "execute_result"
    }
   ],
   "source": [
    "torch.backends.mps.is_available()"
   ]
  },
  {
   "cell_type": "code",
   "execution_count": null,
   "metadata": {},
   "outputs": [],
   "source": []
  }
 ],
 "metadata": {
  "kernelspec": {
   "display_name": "deeplearning",
   "language": "python",
   "name": "python3"
  },
  "language_info": {
   "codemirror_mode": {
    "name": "ipython",
    "version": 3
   },
   "file_extension": ".py",
   "mimetype": "text/x-python",
   "name": "python",
   "nbconvert_exporter": "python",
   "pygments_lexer": "ipython3",
   "version": "3.10.14"
  }
 },
 "nbformat": 4,
 "nbformat_minor": 2
}
