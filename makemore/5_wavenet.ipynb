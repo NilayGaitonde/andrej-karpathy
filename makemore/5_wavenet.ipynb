{
 "cells": [
  {
   "cell_type": "markdown",
   "metadata": {},
   "source": [
    "# 1. Starter code"
   ]
  },
  {
   "cell_type": "code",
   "execution_count": 127,
   "metadata": {},
   "outputs": [
    {
     "data": {
      "text/plain": [
       "<torch._C.Generator at 0x133931730>"
      ]
     },
     "execution_count": 127,
     "metadata": {},
     "output_type": "execute_result"
    }
   ],
   "source": [
    "import torch\n",
    "import torch.nn.functional as F\n",
    "import matplotlib.pyplot as plt\n",
    "import random\n",
    "torch.manual_seed(42)"
   ]
  },
  {
   "cell_type": "code",
   "execution_count": 4,
   "metadata": {},
   "outputs": [],
   "source": [
    "names = open(\"../data/names.txt\",\"r\").read().splitlines()"
   ]
  },
  {
   "cell_type": "code",
   "execution_count": 70,
   "metadata": {},
   "outputs": [],
   "source": [
    "chars = sorted(set(''.join(names)))\n",
    "stoi = {s:i+1 for i,s in enumerate(chars)}\n",
    "stoi['.'] = 0\n",
    "itos = {s:i for i,s in stoi.items()}"
   ]
  },
  {
   "cell_type": "code",
   "execution_count": 82,
   "metadata": {},
   "outputs": [],
   "source": [
    "block_size = 5\n",
    "def build_dataset(words):\n",
    "    x,y = list(),list()\n",
    "    for word in words:\n",
    "        context=[0]*block_size\n",
    "        for character in word+'.':\n",
    "            ix = stoi[character]\n",
    "            x.append(context)\n",
    "            y.append(ix)\n",
    "            context = context[1:] + [ix]\n",
    "    X = torch.tensor(x)\n",
    "    Y = torch.tensor(y)\n",
    "    print(X.shape,Y.shape)\n",
    "    return X,Y"
   ]
  },
  {
   "cell_type": "code",
   "execution_count": 161,
   "metadata": {},
   "outputs": [
    {
     "name": "stdout",
     "output_type": "stream",
     "text": [
      "torch.Size([182424, 5]) torch.Size([182424])\n",
      "torch.Size([22836, 5]) torch.Size([22836])\n",
      "torch.Size([22886, 5]) torch.Size([22886])\n"
     ]
    }
   ],
   "source": [
    "random.seed(42)\n",
    "random.shuffle(names)\n",
    "n1 = int(0.8*len(names))\n",
    "n2 = int(0.9*len(names))\n",
    "\n",
    "train_X,train_Y = build_dataset(names[:n1])\n",
    "val_X,val_Y = build_dataset(names[n1:n2])\n",
    "test_X,test_Y = build_dataset(names[n2:])"
   ]
  },
  {
   "cell_type": "code",
   "execution_count": 55,
   "metadata": {},
   "outputs": [
    {
     "data": {
      "text/plain": [
       "torch.Size([182441, 5])"
      ]
     },
     "execution_count": 55,
     "metadata": {},
     "output_type": "execute_result"
    }
   ],
   "source": [
    "train_X.shape"
   ]
  },
  {
   "cell_type": "code",
   "execution_count": 149,
   "metadata": {},
   "outputs": [],
   "source": [
    "class Linear:\n",
    "    def __init__(self,in_features,out_features,bias=True):\n",
    "        self.weights = torch.randn((in_features,out_features))/(in_features**0.5)\n",
    "        # self.name = \"Linear\"\n",
    "        if bias:\n",
    "            self.bias = torch.zeros(out_features)\n",
    "        else:\n",
    "            self.bias = None\n",
    "    def __call__(self,x):\n",
    "        self.out = x @ self.weights\n",
    "        if self.bias is not None:\n",
    "            self.out += self.bias\n",
    "        return self.out\n",
    "    def name(self):\n",
    "        return f'Linear'\n",
    "    def parameters(self):\n",
    "        return [self.weights] + ([] if self.bias is None else [self.bias])\n",
    "\n",
    "class BatchNorm1D:\n",
    "    def __init__(self,dim,eps=1e-5,momentum=0.5):\n",
    "        self.eps = eps\n",
    "        # self.name = \"BatchNorm1D\"\n",
    "        self.momentum = momentum\n",
    "        self.training = True\n",
    "        # parameters trained with backprop\n",
    "        self.gamma = torch.ones (dim)\n",
    "        self. beta = torch.zeros (dim)\n",
    "        # buffers (trained with a running 'momentum update')\n",
    "        self. running_mean = torch.zeros (dim)\n",
    "        self. running_var = torch.ones (dim)\n",
    "    def __call__(self, x):\n",
    "        # calculate the forward pass\n",
    "        if self.training:\n",
    "            xmean = x.mean(0, keepdim=True) # batch mean\n",
    "            xvar = x.var(0, keepdim=True) # batch variance\n",
    "        else:\n",
    "            xmean = self. running_mean\n",
    "            xvar = self. running_var\n",
    "        xhat = (x - xmean) / torch.sqrt(xvar + self.eps) # normalize to unit variance\n",
    "        self.out = self.gamma * xhat + self. beta\n",
    "        # update the buffers\n",
    "        if self.training:\n",
    "            with torch.no_grad():\n",
    "                self. running_mean = (1 - self.momentum) * self. running_mean + self.momentum * xmean\n",
    "                self. running_var = (1 - self.momentum) * self. running_var + self.momentum * xvar\n",
    "        return self.out\n",
    "\n",
    "    def name(self):\n",
    "        return f'Batch Normalisation'\n",
    "\n",
    "    def parameters(self):\n",
    "        return [self.gamma, self.beta]\n",
    "class Tanh:\n",
    "    def __call__(self,x):\n",
    "        # self.name = \"Tanh\"\n",
    "        self.out = torch.tanh(x)\n",
    "        return self.out\n",
    "    def name(self):\n",
    "        return f'Tanh'\n",
    "    def parameters(self):\n",
    "        return []\n",
    "    \n",
    "class Embedding:\n",
    "    def __init__(self,vocab_size,n_embedding):\n",
    "        # self.name = \"Embedding\"\n",
    "        self.weights = torch.randn((vocab_size,n_embedding))\n",
    "    def __call__(self,IX):\n",
    "        self.out = self.weights[IX]\n",
    "        return self.out\n",
    "    def parameters(self):\n",
    "        return [self.weights]\n",
    "    def name(self):\n",
    "        return 'Embedding'\n",
    "\n",
    "class Flatten:\n",
    "    def __call__(self,weights):\n",
    "        self.out = weights.view(weights.shape[0],-1)\n",
    "        # self.name = \"Flatten\"\n",
    "        return self.out\n",
    "    def name(self):\n",
    "        return f'Flatten'\n",
    "    def parameters(self):\n",
    "        return []\n",
    "class Sequential:\n",
    "    def __init__(self,layers:list):\n",
    "        self.layers = layers\n",
    "    def __call__(self,x):\n",
    "        for layer in self.layers:\n",
    "            x = layer(x)\n",
    "        self.out = x\n",
    "        return self.out\n",
    "    def parameters(self):\n",
    "        self.p = [p for layer in self.layers for p in layer.parameters()]\n",
    "        return self.p"
   ]
  },
  {
   "cell_type": "code",
   "execution_count": 150,
   "metadata": {},
   "outputs": [
    {
     "name": "stdout",
     "output_type": "stream",
     "text": [
      "16097\n"
     ]
    }
   ],
   "source": [
    "n_emb = 10\n",
    "n_hidden = 200\n",
    "vocab_size = len(stoi.keys())\n",
    "\n",
    "model = Sequential([\n",
    "    Embedding(vocab_size,n_emb),\n",
    "    Flatten(),\n",
    "    Linear(n_emb*block_size,n_hidden,bias=False),BatchNorm1D(n_hidden) ,Tanh(),\n",
    "    Linear(n_hidden,vocab_size)\n",
    "])\n",
    "# with torch.no_grad():\n",
    "#     layers[-1].weights *= 1.0\n",
    "parameters = model.parameters()\n",
    "print(sum(p.nelement() for p in parameters))\n",
    "for p in parameters:\n",
    "    p.requires_grad = True"
   ]
  },
  {
   "cell_type": "code",
   "execution_count": 157,
   "metadata": {},
   "outputs": [
    {
     "name": "stdout",
     "output_type": "stream",
     "text": [
      "      0/200000: 3.5396\n",
      "  10000/200000: 2.2905\n",
      "  20000/200000: 2.4494\n",
      "  30000/200000: 1.9188\n",
      "  40000/200000: 1.7908\n",
      "  50000/200000: 2.1338\n",
      "  60000/200000: 2.0730\n",
      "  70000/200000: 2.1319\n",
      "  80000/200000: 2.1675\n",
      "  90000/200000: 1.7733\n",
      " 100000/200000: 1.9827\n",
      " 110000/200000: 1.4374\n",
      " 120000/200000: 2.0017\n",
      " 130000/200000: 1.9943\n",
      " 140000/200000: 1.9053\n",
      " 150000/200000: 2.0844\n",
      " 160000/200000: 1.7817\n",
      " 170000/200000: 2.0885\n",
      " 180000/200000: 1.7060\n",
      " 190000/200000: 2.2214\n"
     ]
    }
   ],
   "source": [
    "epochs = 200000\n",
    "batch_size = 32\n",
    "losses = list()\n",
    "for i in range(epochs):\n",
    "    ix = torch.randint(0,train_X.shape[0],(batch_size,))\n",
    "    Xb,Yb = train_X[ix],train_Y[ix]\n",
    "    logits = model(Xb)\n",
    "    loss = F.cross_entropy(logits,Yb)\n",
    "    losses.append(loss.item())\n",
    "    for p in parameters:\n",
    "        p.grad = None\n",
    "    loss.backward()\n",
    "    lr = 0.1 if i<150000 else 0.01\n",
    "    for p in parameters:\n",
    "        p.data += -lr*p.grad\n",
    "    if i%10000 == 0:\n",
    "        print(f\"{i:7d}/{epochs:4d}: {loss.item():.4f}\")"
   ]
  },
  {
   "cell_type": "code",
   "execution_count": 158,
   "metadata": {},
   "outputs": [
    {
     "data": {
      "text/plain": [
       "[<matplotlib.lines.Line2D at 0x3aba10d30>]"
      ]
     },
     "execution_count": 158,
     "metadata": {},
     "output_type": "execute_result"
    },
    {
     "data": {
      "image/png": "[encoded data removed]",
      "text/plain": [
       "<Figure size 640x480 with 1 Axes>"
      ]
     },
     "metadata": {},
     "output_type": "display_data"
    }
   ],
   "source": [
    "plt.plot(torch.tensor(losses).view(-1,1000).mean(1))"
   ]
  },
  {
   "cell_type": "code",
   "execution_count": 162,
   "metadata": {},
   "outputs": [
    {
     "name": "stdout",
     "output_type": "stream",
     "text": [
      "train_loss=1.9351 \n",
      "val_loss=1.9444 \n",
      "test_loss=1.9452\n"
     ]
    }
   ],
   "source": [
    "for layer in model.layers:\n",
    "    layer.training=False\n",
    "@torch.no_grad() #this decorator tells torch to turn off gradient tracking for this function\n",
    "def split_loss(X,y):\n",
    "    logits = model(X)\n",
    "    loss = F.cross_entropy(logits, y)\n",
    "    return loss.item()\n",
    "print(f\"train_loss={split_loss(train_X,train_Y):.4f} \\nval_loss={split_loss(val_X,val_Y):.4f} \\ntest_loss={split_loss(test_X,test_Y):.4f}\")"
   ]
  },
  {
   "cell_type": "code",
   "execution_count": 156,
   "metadata": {},
   "outputs": [
    {
     "name": "stdout",
     "output_type": "stream",
     "text": [
      "cbrpzhxqdbylqvifkwmlpxhtvtyksncfssgojrzhnbnfqpwsvht\n",
      "igqni\n",
      "nhztuvpwceziivdvsleggphhbmspoindqbxjtzsnlivwv\n",
      "vvdbquwqztlogijfryxixfkqeqpiusdtvefcepxip\n",
      "gtuffjdsfkyoxpqgnovljhksyarnmqqosozswjcojlniycjsfrenqkpwxadlnuo\n",
      "qoibsvkowazhrxnsq\n",
      "opklmtnrxa\n",
      "kxoioloqbhlbvbbdnyypxqmuvtlgbvfpcpdxjpycsiwlqwkkmcf\n",
      "zauqngjadhq\n",
      "kbwesdwtvmzamdteffgky\n",
      "qdyytoorowoottoqkoiokibfcq\n",
      "zbinhzjs\n",
      "hu\n",
      "eoaienkqercqclpwcfzykbadhkklsclc\n",
      "nqzysdhokhnmh\n",
      "hzbvvyaslcdhvyocadlwuwc\n",
      "isawrdfv\n",
      "kphtzbiuzzsrvgpknbfcyviyuudlddgwmj\n",
      "pugcnvzhpvdbfppdakrzkxkimtvoocnupnipjmjqjwqvhflwkewtdsrclxdcilvhgfllcuml\n",
      "hhzc\n"
     ]
    }
   ],
   "source": [
    "# Sampling:\n",
    "generator_inference = torch.Generator().manual_seed(2147483647 + 10)\n",
    "for _ in range(20):\n",
    "    out = []\n",
    "    context = [0] * block_size\n",
    "    while True:\n",
    "        logits = model(torch.tensor([context]))\n",
    "        probs = F.softmax(logits, dim=1)\n",
    "        ix = torch.multinomial(probs, num_samples=1,generator=generator_inference).item()\n",
    "        context = context[1:] + [ix]\n",
    "        if ix == 0:\n",
    "            break\n",
    "        out.append(ix)\n",
    "    print(''.join(itos[i] for i in out))"
   ]
  },
  {
   "cell_type": "markdown",
   "metadata": {},
   "source": [
    "# 2. Wavenet"
   ]
  },
  {
   "cell_type": "code",
   "execution_count": 1,
   "metadata": {},
   "outputs": [
    {
     "data": {
      "text/plain": [
       "<torch._C.Generator at 0x10fb0d530>"
      ]
     },
     "execution_count": 1,
     "metadata": {},
     "output_type": "execute_result"
    }
   ],
   "source": [
    "import torch\n",
    "import torch.nn.functional as F\n",
    "import matplotlib.pyplot as plt\n",
    "import random\n",
    "torch.manual_seed(42)"
   ]
  },
  {
   "cell_type": "code",
   "execution_count": 2,
   "metadata": {},
   "outputs": [],
   "source": [
    "names = open(\"../data/names.txt\",\"r\").read().splitlines()"
   ]
  },
  {
   "cell_type": "code",
   "execution_count": 3,
   "metadata": {},
   "outputs": [],
   "source": [
    "chars = sorted(set(''.join(names)))\n",
    "stoi = {s:i+1 for i,s in enumerate(chars)}\n",
    "stoi['.'] = 0\n",
    "itos = {s:i for i,s in stoi.items()}"
   ]
  },
  {
   "cell_type": "code",
   "execution_count": 4,
   "metadata": {},
   "outputs": [],
   "source": [
    "block_size = 8\n",
    "def build_dataset(words):\n",
    "    x,y = list(),list()\n",
    "    for word in words:\n",
    "        context=[0]*block_size\n",
    "        for character in word+'.':\n",
    "            ix = stoi[character]\n",
    "            x.append(context)\n",
    "            y.append(ix)\n",
    "            context = context[1:] + [ix]\n",
    "    X = torch.tensor(x)\n",
    "    Y = torch.tensor(y)\n",
    "    print(X.shape,Y.shape)\n",
    "    return X,Y"
   ]
  },
  {
   "cell_type": "code",
   "execution_count": 5,
   "metadata": {},
   "outputs": [
    {
     "name": "stdout",
     "output_type": "stream",
     "text": [
      "torch.Size([182625, 8]) torch.Size([182625])\n",
      "torch.Size([22655, 8]) torch.Size([22655])\n",
      "torch.Size([22866, 8]) torch.Size([22866])\n"
     ]
    }
   ],
   "source": [
    "random.seed(42)\n",
    "random.shuffle(names)\n",
    "n1 = int(0.8*len(names))\n",
    "n2 = int(0.9*len(names))\n",
    "\n",
    "train_X,train_Y = build_dataset(names[:n1])\n",
    "val_X,val_Y = build_dataset(names[n1:n2])\n",
    "test_X,test_Y = build_dataset(names[n2:])"
   ]
  },
  {
   "cell_type": "code",
   "execution_count": 6,
   "metadata": {},
   "outputs": [
    {
     "data": {
      "text/plain": [
       "torch.Size([182625, 8])"
      ]
     },
     "execution_count": 6,
     "metadata": {},
     "output_type": "execute_result"
    }
   ],
   "source": [
    "train_X.shape"
   ]
  },
  {
   "cell_type": "code",
   "execution_count": 29,
   "metadata": {},
   "outputs": [],
   "source": [
    "class Linear:\n",
    "    def __init__(self,in_features,out_features,bias=True):\n",
    "        self.weights = torch.randn((in_features,out_features))/(in_features**0.5)\n",
    "        self.name = \"Linear\"\n",
    "        if bias:\n",
    "            self.bias = torch.zeros(out_features)\n",
    "        else:\n",
    "            self.bias = None\n",
    "    def __call__(self,x):\n",
    "        self.out = x @ self.weights\n",
    "        if self.bias is not None:\n",
    "            self.out += self.bias\n",
    "        return self.out\n",
    "    \n",
    "    def parameters(self):\n",
    "        return [self.weights] + ([] if self.bias is None else [self.bias])\n",
    "\n",
    "class BatchNorm1D:\n",
    "    def __init__(self,dim,eps=1e-5,momentum=0.5):\n",
    "        self.eps = eps\n",
    "        self.name = \"BatchNorm1D\"\n",
    "        self.momentum = momentum\n",
    "        self.training = True\n",
    "        # parameters trained with backprop\n",
    "        self.gamma = torch.ones (dim)\n",
    "        self. beta = torch.zeros (dim)\n",
    "        # buffers (trained with a running 'momentum update')\n",
    "        self. running_mean = torch.zeros (dim)\n",
    "        self. running_var = torch.ones (dim)\n",
    "    def __call__(self, x):\n",
    "        # calculate the forward pass\n",
    "        if self.training:\n",
    "            if x.ndim == 2:\n",
    "                dim = 0\n",
    "            elif x.ndim == 3:\n",
    "                dim = (0,1)\n",
    "            xmean = x.mean(dim, keepdim=True) # batch mean\n",
    "            xvar = x.var(dim, keepdim=True) # batch variance\n",
    "        else:\n",
    "            xmean = self. running_mean\n",
    "            xvar = self. running_var\n",
    "        xhat = (x - xmean) / torch.sqrt(xvar + self.eps) # normalize to unit variance\n",
    "        self.out = self.gamma * xhat + self. beta\n",
    "        # update the buffers\n",
    "        if self.training:\n",
    "            with torch.no_grad():\n",
    "                self. running_mean = (1 - self.momentum) * self. running_mean + self.momentum * xmean\n",
    "                self. running_var = (1 - self.momentum) * self. running_var + self.momentum * xvar\n",
    "        return self.out\n",
    "    def parameters(self):\n",
    "        return [self.gamma, self.beta]\n",
    "class Tanh:\n",
    "    def __init__(self):\n",
    "        self.name = \"Tanh\"\n",
    "        pass\n",
    "    def __call__(self,x):\n",
    "        self.out = torch.tanh(x)\n",
    "        return self.out\n",
    "    \n",
    "    def parameters(self):\n",
    "        return []\n",
    "    \n",
    "class Embedding:\n",
    "    def __init__(self,vocab_size,n_embedding):\n",
    "        self.name = \"Embedding\"\n",
    "        self.weights = torch.randn((vocab_size,n_embedding))\n",
    "    def __call__(self,IX):\n",
    "        self.out = self.weights[IX]\n",
    "        return self.out\n",
    "    def parameters(self):\n",
    "        return [self.weights]\n",
    "    \n",
    "\n",
    "class FlattenConsecutive:\n",
    "    def __init__(self,n):\n",
    "        self.n = n\n",
    "        self.name = \"Flatten\"\n",
    "\n",
    "    def __call__(self,weights):\n",
    "        B,T,C = weights.shape\n",
    "        x = weights.view(B,T//self.n,C*self.n)\n",
    "        if x.shape[1] == 1:\n",
    "            x = x.squeeze(1)\n",
    "        self.out  = x\n",
    "        return self.out\n",
    "    \n",
    "    def parameters(self):\n",
    "        return []\n",
    "class Sequential:\n",
    "    def __init__(self,layers:list):\n",
    "        self.layers = layers\n",
    "    def __call__(self,x):\n",
    "        for layer in self.layers:\n",
    "            x = layer(x)\n",
    "        self.out = x\n",
    "        return self.out\n",
    "    def parameters(self):\n",
    "        self.p = [p for layer in self.layers for p in layer.parameters()]\n",
    "        return self.p"
   ]
  },
  {
   "cell_type": "code",
   "execution_count": 30,
   "metadata": {},
   "outputs": [
    {
     "name": "stdout",
     "output_type": "stream",
     "text": [
      "170897\n"
     ]
    }
   ],
   "source": [
    "n_emb = 10\n",
    "n_hidden = 200\n",
    "vocab_size = len(stoi.keys())\n",
    "\n",
    "model = Sequential([\n",
    "    Embedding(vocab_size,n_emb),\n",
    "    FlattenConsecutive(2), Linear(n_emb*2,n_hidden,bias=False),BatchNorm1D(n_hidden) ,Tanh(),\n",
    "    FlattenConsecutive(2), Linear(n_hidden*2,n_hidden,bias=False),BatchNorm1D(n_hidden) ,Tanh(),\n",
    "    FlattenConsecutive(2), Linear(n_hidden*2,n_hidden,bias=False),BatchNorm1D(n_hidden) ,Tanh(),\n",
    "    Linear(n_hidden,vocab_size)\n",
    "])\n",
    "with torch.no_grad():\n",
    "    model.layers[-1].weights *= 1.0\n",
    "parameters = model.parameters()\n",
    "print(sum(p.nelement() for p in parameters))\n",
    "for p in parameters:\n",
    "    p.requires_grad = True"
   ]
  },
  {
   "cell_type": "code",
   "execution_count": 31,
   "metadata": {},
   "outputs": [
    {
     "name": "stdout",
     "output_type": "stream",
     "text": [
      "Embedding\n",
      "Flatten\n",
      "Linear\n",
      "BatchNorm1D\n",
      "Tanh\n",
      "Flatten\n",
      "Linear\n",
      "BatchNorm1D\n",
      "Tanh\n",
      "Flatten\n",
      "Linear\n",
      "BatchNorm1D\n",
      "Tanh\n",
      "Linear\n"
     ]
    }
   ],
   "source": [
    "for layer in model.layers:\n",
    "    print(layer.name)"
   ]
  },
  {
   "cell_type": "code",
   "execution_count": 33,
   "metadata": {},
   "outputs": [
    {
     "name": "stdout",
     "output_type": "stream",
     "text": [
      "      0/200000: 3.1596\n",
      "  10000/200000: 2.1845\n",
      "  20000/200000: 2.4337\n",
      "  30000/200000: 1.7942\n",
      "  40000/200000: 2.2973\n",
      "  50000/200000: 1.5440\n",
      "  60000/200000: 2.3392\n",
      "  70000/200000: 2.0731\n",
      "  80000/200000: 2.3116\n",
      "  90000/200000: 2.2222\n",
      " 100000/200000: 2.1009\n",
      " 110000/200000: 1.9772\n",
      " 120000/200000: 1.5323\n",
      " 130000/200000: 1.7836\n",
      " 140000/200000: 1.6763\n",
      " 150000/200000: 2.1051\n",
      " 160000/200000: 1.8211\n",
      " 170000/200000: 1.7664\n",
      " 180000/200000: 1.7517\n",
      " 190000/200000: 1.5921\n"
     ]
    }
   ],
   "source": [
    "epochs = 200000\n",
    "batch_size = 32\n",
    "losses = list()\n",
    "for i in range(epochs):\n",
    "    ix = torch.randint(0,train_X.shape[0],(batch_size,))\n",
    "    Xb,Yb = train_X[ix],train_Y[ix]\n",
    "    logits = model(Xb)\n",
    "    loss = F.cross_entropy(logits,Yb)\n",
    "    losses.append(loss.item())\n",
    "    for p in parameters:\n",
    "        p.grad = None\n",
    "    loss.backward()\n",
    "    lr = 0.1 if i<150000 else 0.01\n",
    "    for p in parameters:\n",
    "        p.data += -lr*p.grad\n",
    "    if i%10000 == 0:\n",
    "        print(f\"{i:7d}/{epochs:4d}: {loss.item():.4f}\")"
   ]
  },
  {
   "cell_type": "code",
   "execution_count": 34,
   "metadata": {},
   "outputs": [
    {
     "data": {
      "text/plain": [
       "[<matplotlib.lines.Line2D at 0x12f5ee350>]"
      ]
     },
     "execution_count": 34,
     "metadata": {},
     "output_type": "execute_result"
    },
    {
     "data": {
      "image/png": "[encoded data removed]",
      "text/plain": [
       "<Figure size 640x480 with 1 Axes>"
      ]
     },
     "metadata": {},
     "output_type": "display_data"
    }
   ],
   "source": [
    "plt.plot(torch.tensor(losses).view(-1,1000).mean(1))"
   ]
  },
  {
   "cell_type": "code",
   "execution_count": 35,
   "metadata": {},
   "outputs": [
    {
     "name": "stdout",
     "output_type": "stream",
     "text": [
      "train_loss=1.7432 \n",
      "val_loss=2.0004 \n",
      "test_loss=1.9972\n"
     ]
    }
   ],
   "source": [
    "for layer in model.layers:\n",
    "    layer.training=False\n",
    "@torch.no_grad() #this decorator tells torch to turn off gradient tracking for this function\n",
    "def split_loss(X,y):\n",
    "    logits = model(X)\n",
    "    loss = F.cross_entropy(logits, y)\n",
    "    return loss.item()\n",
    "print(f\"train_loss={split_loss(train_X,train_Y):.4f} \\nval_loss={split_loss(val_X,val_Y):.4f} \\ntest_loss={split_loss(test_X,test_Y):.4f}\")"
   ]
  },
  {
   "cell_type": "code",
   "execution_count": 12,
   "metadata": {},
   "outputs": [
    {
     "name": "stdout",
     "output_type": "stream",
     "text": [
      "carmah\n",
      "amelle\n",
      "khirmle\n",
      "reety\n",
      "halani\n",
      "ejance\n",
      "nadeely\n",
      "charqui\n",
      "nermair\n",
      "chaiir\n",
      "kaleigh\n",
      "hamondi\n",
      "desir\n",
      "zaroi\n",
      "emiliana\n",
      "wazell\n",
      "dearyn\n",
      "kailee\n",
      "ivrah\n",
      "edde\n"
     ]
    }
   ],
   "source": [
    "# Sampling:\n",
    "generator_inference = torch.Generator().manual_seed(2147483647 + 10)\n",
    "for _ in range(20):\n",
    "    out = []\n",
    "    context = [0] * block_size\n",
    "    while True:\n",
    "        logits = model(torch.tensor([context]))\n",
    "        probs = F.softmax(logits, dim=1)\n",
    "        ix = torch.multinomial(probs, num_samples=1,generator=generator_inference).item()\n",
    "        context = context[1:] + [ix]\n",
    "        if ix == 0:\n",
    "            break\n",
    "        out.append(ix)\n",
    "    print(''.join(itos[i] for i in out))"
   ]
  }
 ],
 "metadata": {
  "kernelspec": {
   "display_name": "deeplearning",
   "language": "python",
   "name": "python3"
  },
  "language_info": {
   "codemirror_mode": {
    "name": "ipython",
    "version": 3
   },
   "file_extension": ".py",
   "mimetype": "text/x-python",
   "name": "python",
   "nbconvert_exporter": "python",
   "pygments_lexer": "ipython3",
   "version": "3.10.14"
  }
 },
 "nbformat": 4,
 "nbformat_minor": 2
}
