{
 "cells": [
  {
   "cell_type": "markdown",
   "metadata": {},
   "source": [
    "\n",
    "[Notes **(not by me)**](https://concon.land/notes/karpathy/Lecture4)"
   ]
  },
  {
   "cell_type": "markdown",
   "metadata": {},
   "source": [
    "# 1. Starter code"
   ]
  },
  {
   "cell_type": "code",
   "execution_count": 1,
   "metadata": {},
   "outputs": [],
   "source": [
    "import torch\n",
    "import torch.nn.functional as F\n",
    "import matplotlib.pyplot as plt\n",
    "import random"
   ]
  },
  {
   "cell_type": "code",
   "execution_count": 2,
   "metadata": {},
   "outputs": [
    {
     "data": {
      "text/plain": [
       "['emma',\n",
       " 'olivia',\n",
       " 'ava',\n",
       " 'isabella',\n",
       " 'sophia',\n",
       " 'charlotte',\n",
       " 'mia',\n",
       " 'amelia',\n",
       " 'harper',\n",
       " 'evelyn']"
      ]
     },
     "execution_count": 2,
     "metadata": {},
     "output_type": "execute_result"
    }
   ],
   "source": [
    "words = open('../data/names.txt','r').read().splitlines()\n",
    "words[:10]"
   ]
  },
  {
   "cell_type": "code",
   "execution_count": 3,
   "metadata": {},
   "outputs": [],
   "source": [
    "chars = sorted(set(''.join(words)))\n",
    "stoi = {s:i+1 for i,s in enumerate(chars)}\n",
    "stoi['.'] = 0\n",
    "itos = {i:s for s,i in stoi.items()}"
   ]
  },
  {
   "cell_type": "code",
   "execution_count": 4,
   "metadata": {},
   "outputs": [],
   "source": [
    "block_size = 3\n",
    "def build_dataset(words):\n",
    "    x,y = list(),list()\n",
    "    for word in words:\n",
    "        context=[0]*block_size\n",
    "        # context is the vector representation\n",
    "        for character in word+'.':\n",
    "            ix = stoi[character]\n",
    "            x.append(context)\n",
    "            y.append(ix)\n",
    "            # print(''.join(itos[i] for i in context),'--->',character)\n",
    "            context = context[1:] + [ix]\n",
    "    X = torch.tensor(x)\n",
    "    Y = torch.tensor(y)\n",
    "    return X,Y"
   ]
  },
  {
   "cell_type": "code",
   "execution_count": 5,
   "metadata": {},
   "outputs": [],
   "source": [
    "random.seed(42)\n",
    "random.shuffle(words)\n",
    "n1 = int(0.8*len(words))\n",
    "n2 = int(0.9*len(words))\n",
    "\n",
    "train_X,train_Y = build_dataset(words[:n1])\n",
    "dev_X,dev_Y = build_dataset(words[n1:n2])\n",
    "test_X,test_Y = build_dataset(words[n2:])"
   ]
  },
  {
   "cell_type": "code",
   "execution_count": 6,
   "metadata": {},
   "outputs": [
    {
     "name": "stdout",
     "output_type": "stream",
     "text": [
      "Total number of parameters: 11897\n"
     ]
    }
   ],
   "source": [
    "n_emb = 10\n",
    "n_hidden = 200\n",
    "vocab_size=27\n",
    "torch.manual_seed(2147483647)\n",
    "generator = torch.Generator()\n",
    "lookup_table = torch.randn((vocab_size,n_emb),generator=generator,requires_grad=True)\n",
    "W1 = torch.randn((n_emb * block_size ,n_hidden),generator=generator,requires_grad=True)\n",
    "b1 = torch.randn((n_hidden),generator=generator,requires_grad=True)\n",
    "W2 = torch.randn((n_hidden,vocab_size),generator=generator,requires_grad=True)\n",
    "b2 = torch.randn((vocab_size),generator=generator,requires_grad=True)\n",
    "parameters=[lookup_table,W1,b1,W2,b2]\n",
    "print(f'Total number of parameters: {sum(p.nelement() for p in parameters)}')"
   ]
  },
  {
   "cell_type": "code",
   "execution_count": 7,
   "metadata": {},
   "outputs": [],
   "source": [
    "lr_exp = torch.linspace(-2,0,1000)\n",
    "lrs = 10**lr_exp"
   ]
  },
  {
   "cell_type": "code",
   "execution_count": 8,
   "metadata": {},
   "outputs": [],
   "source": [
    "losses = list()\n",
    "step_i = list()\n",
    "lr_i = list()"
   ]
  },
  {
   "cell_type": "code",
   "execution_count": 9,
   "metadata": {},
   "outputs": [
    {
     "name": "stdout",
     "output_type": "stream",
     "text": [
      "      0/ 200000: 26.9064\n"
     ]
    },
    {
     "ename": "KeyboardInterrupt",
     "evalue": "",
     "output_type": "error",
     "traceback": [
      "\u001b[0;31m---------------------------------------------------------------------------\u001b[0m",
      "\u001b[0;31mKeyboardInterrupt\u001b[0m                         Traceback (most recent call last)",
      "Cell \u001b[0;32mIn[9], line 12\u001b[0m\n\u001b[1;32m     10\u001b[0m \u001b[38;5;28;01mfor\u001b[39;00m p \u001b[38;5;129;01min\u001b[39;00m parameters:\n\u001b[1;32m     11\u001b[0m     p\u001b[38;5;241m.\u001b[39mgrad \u001b[38;5;241m=\u001b[39m \u001b[38;5;28;01mNone\u001b[39;00m\n\u001b[0;32m---> 12\u001b[0m \u001b[43mloss\u001b[49m\u001b[38;5;241;43m.\u001b[39;49m\u001b[43mbackward\u001b[49m\u001b[43m(\u001b[49m\u001b[43m)\u001b[49m\n\u001b[1;32m     14\u001b[0m \u001b[38;5;28;01mif\u001b[39;00m i\u001b[38;5;241m<\u001b[39m \u001b[38;5;241m100000\u001b[39m:lr\u001b[38;5;241m=\u001b[39m\u001b[38;5;241m0.1\u001b[39m \n\u001b[1;32m     15\u001b[0m \u001b[38;5;28;01melse\u001b[39;00m:lr\u001b[38;5;241m=\u001b[39m\u001b[38;5;241m0.01\u001b[39m\n",
      "File \u001b[0;32m~/anaconda3/envs/deeplearning/lib/python3.10/site-packages/torch/_tensor.py:525\u001b[0m, in \u001b[0;36mTensor.backward\u001b[0;34m(self, gradient, retain_graph, create_graph, inputs)\u001b[0m\n\u001b[1;32m    515\u001b[0m \u001b[38;5;28;01mif\u001b[39;00m has_torch_function_unary(\u001b[38;5;28mself\u001b[39m):\n\u001b[1;32m    516\u001b[0m     \u001b[38;5;28;01mreturn\u001b[39;00m handle_torch_function(\n\u001b[1;32m    517\u001b[0m         Tensor\u001b[38;5;241m.\u001b[39mbackward,\n\u001b[1;32m    518\u001b[0m         (\u001b[38;5;28mself\u001b[39m,),\n\u001b[0;32m   (...)\u001b[0m\n\u001b[1;32m    523\u001b[0m         inputs\u001b[38;5;241m=\u001b[39minputs,\n\u001b[1;32m    524\u001b[0m     )\n\u001b[0;32m--> 525\u001b[0m \u001b[43mtorch\u001b[49m\u001b[38;5;241;43m.\u001b[39;49m\u001b[43mautograd\u001b[49m\u001b[38;5;241;43m.\u001b[39;49m\u001b[43mbackward\u001b[49m\u001b[43m(\u001b[49m\n\u001b[1;32m    526\u001b[0m \u001b[43m    \u001b[49m\u001b[38;5;28;43mself\u001b[39;49m\u001b[43m,\u001b[49m\u001b[43m \u001b[49m\u001b[43mgradient\u001b[49m\u001b[43m,\u001b[49m\u001b[43m \u001b[49m\u001b[43mretain_graph\u001b[49m\u001b[43m,\u001b[49m\u001b[43m \u001b[49m\u001b[43mcreate_graph\u001b[49m\u001b[43m,\u001b[49m\u001b[43m \u001b[49m\u001b[43minputs\u001b[49m\u001b[38;5;241;43m=\u001b[39;49m\u001b[43minputs\u001b[49m\n\u001b[1;32m    527\u001b[0m \u001b[43m\u001b[49m\u001b[43m)\u001b[49m\n",
      "File \u001b[0;32m~/anaconda3/envs/deeplearning/lib/python3.10/site-packages/torch/autograd/__init__.py:267\u001b[0m, in \u001b[0;36mbackward\u001b[0;34m(tensors, grad_tensors, retain_graph, create_graph, grad_variables, inputs)\u001b[0m\n\u001b[1;32m    262\u001b[0m     retain_graph \u001b[38;5;241m=\u001b[39m create_graph\n\u001b[1;32m    264\u001b[0m \u001b[38;5;66;03m# The reason we repeat the same comment below is that\u001b[39;00m\n\u001b[1;32m    265\u001b[0m \u001b[38;5;66;03m# some Python versions print out the first line of a multi-line function\u001b[39;00m\n\u001b[1;32m    266\u001b[0m \u001b[38;5;66;03m# calls in the traceback and some print out the last line\u001b[39;00m\n\u001b[0;32m--> 267\u001b[0m \u001b[43m_engine_run_backward\u001b[49m\u001b[43m(\u001b[49m\n\u001b[1;32m    268\u001b[0m \u001b[43m    \u001b[49m\u001b[43mtensors\u001b[49m\u001b[43m,\u001b[49m\n\u001b[1;32m    269\u001b[0m \u001b[43m    \u001b[49m\u001b[43mgrad_tensors_\u001b[49m\u001b[43m,\u001b[49m\n\u001b[1;32m    270\u001b[0m \u001b[43m    \u001b[49m\u001b[43mretain_graph\u001b[49m\u001b[43m,\u001b[49m\n\u001b[1;32m    271\u001b[0m \u001b[43m    \u001b[49m\u001b[43mcreate_graph\u001b[49m\u001b[43m,\u001b[49m\n\u001b[1;32m    272\u001b[0m \u001b[43m    \u001b[49m\u001b[43minputs\u001b[49m\u001b[43m,\u001b[49m\n\u001b[1;32m    273\u001b[0m \u001b[43m    \u001b[49m\u001b[43mallow_unreachable\u001b[49m\u001b[38;5;241;43m=\u001b[39;49m\u001b[38;5;28;43;01mTrue\u001b[39;49;00m\u001b[43m,\u001b[49m\n\u001b[1;32m    274\u001b[0m \u001b[43m    \u001b[49m\u001b[43maccumulate_grad\u001b[49m\u001b[38;5;241;43m=\u001b[39;49m\u001b[38;5;28;43;01mTrue\u001b[39;49;00m\u001b[43m,\u001b[49m\n\u001b[1;32m    275\u001b[0m \u001b[43m\u001b[49m\u001b[43m)\u001b[49m\n",
      "File \u001b[0;32m~/anaconda3/envs/deeplearning/lib/python3.10/site-packages/torch/autograd/graph.py:744\u001b[0m, in \u001b[0;36m_engine_run_backward\u001b[0;34m(t_outputs, *args, **kwargs)\u001b[0m\n\u001b[1;32m    742\u001b[0m     unregister_hooks \u001b[38;5;241m=\u001b[39m _register_logging_hooks_on_whole_graph(t_outputs)\n\u001b[1;32m    743\u001b[0m \u001b[38;5;28;01mtry\u001b[39;00m:\n\u001b[0;32m--> 744\u001b[0m     \u001b[38;5;28;01mreturn\u001b[39;00m \u001b[43mVariable\u001b[49m\u001b[38;5;241;43m.\u001b[39;49m\u001b[43m_execution_engine\u001b[49m\u001b[38;5;241;43m.\u001b[39;49m\u001b[43mrun_backward\u001b[49m\u001b[43m(\u001b[49m\u001b[43m  \u001b[49m\u001b[38;5;66;43;03m# Calls into the C++ engine to run the backward pass\u001b[39;49;00m\n\u001b[1;32m    745\u001b[0m \u001b[43m        \u001b[49m\u001b[43mt_outputs\u001b[49m\u001b[43m,\u001b[49m\u001b[43m \u001b[49m\u001b[38;5;241;43m*\u001b[39;49m\u001b[43margs\u001b[49m\u001b[43m,\u001b[49m\u001b[43m \u001b[49m\u001b[38;5;241;43m*\u001b[39;49m\u001b[38;5;241;43m*\u001b[39;49m\u001b[43mkwargs\u001b[49m\n\u001b[1;32m    746\u001b[0m \u001b[43m    \u001b[49m\u001b[43m)\u001b[49m  \u001b[38;5;66;03m# Calls into the C++ engine to run the backward pass\u001b[39;00m\n\u001b[1;32m    747\u001b[0m \u001b[38;5;28;01mfinally\u001b[39;00m:\n\u001b[1;32m    748\u001b[0m     \u001b[38;5;28;01mif\u001b[39;00m attach_logging_hooks:\n",
      "\u001b[0;31mKeyboardInterrupt\u001b[0m: "
     ]
    }
   ],
   "source": [
    "epochs = 200000\n",
    "batch_size = 32\n",
    "for i in range(epochs):\n",
    "    ix = torch. randint(0, train_X.shape[0], (batch_size,), generator=generator)\n",
    "    Xb, Yb = train_X[ix], train_Y[ix] # batch X,Y\n",
    "    embedding = lookup_table[train_X[ix]]\n",
    "    h = torch.tanh(embedding.view(-1,30) @ W1 + b1)\n",
    "    logits = h @ W2 + b2\n",
    "    loss = F.cross_entropy(logits, Yb)\n",
    "    for p in parameters:\n",
    "        p.grad = None\n",
    "    loss.backward()\n",
    "\n",
    "    if i< 100000:lr=0.1 \n",
    "    else:lr=0.01\n",
    "\n",
    "    for p in parameters:\n",
    "        p.data += -lr * p.grad\n",
    "    \n",
    "    step_i.append(i)\n",
    "\n",
    "    if i%10000 == 0:\n",
    "        print(f\"{i:7d}/{epochs:7d}: {loss.item():.4f}\")\n",
    "    losses.append(loss.log10().item())"
   ]
  },
  {
   "cell_type": "code",
   "execution_count": null,
   "metadata": {},
   "outputs": [
    {
     "name": "stdout",
     "output_type": "stream",
     "text": [
      "train_loss=2.1241 \n",
      "dev_loss=2.1595 \n",
      "test_loss=2.1565\n"
     ]
    }
   ],
   "source": [
    "@torch.no_grad() #this decorator tells torch to turn off gradient tracking for this function\n",
    "def split_loss(X,y):\n",
    "    embedding = lookup_table[X]\n",
    "    h = torch.tanh(embedding.view(-1,n_emb * block_size) @ W1 + b1)\n",
    "    logits = h @ W2 + b2\n",
    "    loss = F.cross_entropy(logits, y)\n",
    "    return loss.item()\n",
    "print(f\"train_loss={split_loss(train_X,train_Y):.4f} \\ndev_loss={split_loss(dev_X,dev_Y):.4f} \\ntest_loss={split_loss(test_X,test_Y):.4f}\")\n"
   ]
  },
  {
   "cell_type": "code",
   "execution_count": null,
   "metadata": {},
   "outputs": [
    {
     "data": {
      "text/plain": [
       "tensor([3.2958])"
      ]
     },
     "execution_count": 37,
     "metadata": {},
     "output_type": "execute_result"
    }
   ],
   "source": [
    "-torch.tensor([1/27.0]).log()"
   ]
  },
  {
   "cell_type": "code",
   "execution_count": null,
   "metadata": {},
   "outputs": [
    {
     "data": {
      "text/plain": [
       "[<matplotlib.lines.Line2D at 0x12d03f730>]"
      ]
     },
     "execution_count": 14,
     "metadata": {},
     "output_type": "execute_result"
    },
    {
     "data": {
      "image/png": "[encoded data removed]",
      "text/plain": [
       "<Figure size 640x480 with 1 Axes>"
      ]
     },
     "metadata": {},
     "output_type": "display_data"
    }
   ],
   "source": [
    "plt.plot(step_i,losses)"
   ]
  },
  {
   "cell_type": "code",
   "execution_count": null,
   "metadata": {},
   "outputs": [
    {
     "name": "stdout",
     "output_type": "stream",
     "text": [
      "carmah\n",
      "amori\n",
      "kihlemleigenty\n",
      "hacassa\n",
      "jazhitn\n",
      "den\n",
      "rhc\n",
      "kaqui\n",
      "ner\n",
      "kia\n",
      "chaiir\n",
      "kaleigh\n",
      "ham\n",
      "jorn\n",
      "quinn\n",
      "saline\n",
      "kia\n",
      "biyon\n",
      "elo\n",
      "dearyni\n"
     ]
    }
   ],
   "source": [
    "# Sampling:\n",
    "generator_inference = torch.Generator().manual_seed(2147483647 + 10)\n",
    "for _ in range(20):\n",
    "    out = []\n",
    "    context = [0] * block_size\n",
    "    while True:\n",
    "        embedding_sample = lookup_table[torch.tensor([context])]\n",
    "        h = torch.tanh(embedding_sample.view(1,-1)@W1 + b1)\n",
    "        logits = h @ W2 + b2\n",
    "        probs = F.softmax(logits, dim=1)\n",
    "        ix = torch.multinomial(probs, num_samples=1,replacement=True,generator=generator_inference).item()\n",
    "        context = context[1:] + [ix]\n",
    "        if ix == 0:\n",
    "            break\n",
    "        out.append(ix)\n",
    "    print(''.join(itos[i] for i in out))"
   ]
  },
  {
   "cell_type": "markdown",
   "metadata": {},
   "source": [
    "# 2. Reduce the randomness in the data and get logits closer to 0.\n",
    "- Initially in the training loop we're getting a very high loss and then we suddenly get to 2. something. Our goal here is to start the model right and on the right path.\n",
    "    - So the final logits depend on b2 and W2. Since we need everything close to 0 b2 *0 and we multiply w2 by 0.1\n",
    "    - <details><summary>making tanh better</summary>\n",
    "        It also depends on the activation function of tanh.\n",
    "        Now tanh is a bit messed up in the sense that if the value of tanh is +/- 1 then the gradient is 0 and we just forget all of the previous neuron (happens because chain rule and we multiply local grad with overall grad). Similarly if we have 0 then the gradient is 1 and we just pass everyhting in the gradient forward. This is happening when we simply use tanh.<br>\n",
    "        <img src=\"../assets/graph_sat_tanh.png\" alt=\"drawing\" width=\"400px\"> <br> In this graph we can see that the majority of weights before the tanh activation have a very high range (-20,20) and this range is then squashed completely between -1,1. \n",
    "        <br><img src=\"../assets/Screenshot 2024-04-30 at 22.03.44.png\" width=\"400px\"><br> In this graph you can see that a lot of the values are at the extremes (-1 and 1) and thus aren't affecting the neural network a lot, in fact they may be removing the previous gradients completely. [Video](https://www.youtube.com/watch?v=P6sfmUTpUmc&t=779s)\n",
    "        </details>\n",
    "    - Now this strategy of adding normalisation constants during weight initilisation is ok for small networks but to transform them to bigger networks might be difficult. For larger networks this \"vanishing\" gradient will keep on increasing\n",
    "        RECAP: Random output weights can cause the network to be confidently wrong, and waste early training, so we scaled them down. Random hidden layer weights can cause gradients to vanish, so we scaled them down. The goal is to find a way to scale the weights to maintain this spread so that the values don't go too out of bound.**The value of the activations must be gaussian because mean is 0 and deviation is 1 i.e. it is closer to 0 so we won't have very high numbers to give tanh thus we won't have the vanishing gradient problem.**\n",
    "        [Keming et al.](https://arxiv.org/abs/1502.01852) talks about how we can do this, i.e. reduce this spread of data. The paper says that we must do $ \\sqrt{\\frac{2}{n_{in}}} $ where $ n_{in} $ is the number of inputs to the layer. This is called the Xavier initialisation.\n",
    "- [Batch normalisation](https://arxiv.org/abs/1502.03167): If you want the weights to be gaussian just make them gaussian afterwards. \n",
    "### [\"summary\"](https://www.youtube.com/watch?v=P6sfmUTpUmc&t=4450s)"
   ]
  },
  {
   "cell_type": "code",
   "execution_count": null,
   "metadata": {},
   "outputs": [],
   "source": [
    "import torch\n",
    "import torch.nn.functional as F\n",
    "import matplotlib.pyplot as plt\n",
    "import random\n",
    "# https://concon.land/notes/karpathy/Lecture4"
   ]
  },
  {
   "cell_type": "code",
   "execution_count": null,
   "metadata": {},
   "outputs": [
    {
     "data": {
      "text/plain": [
       "['emma',\n",
       " 'olivia',\n",
       " 'ava',\n",
       " 'isabella',\n",
       " 'sophia',\n",
       " 'charlotte',\n",
       " 'mia',\n",
       " 'amelia',\n",
       " 'harper',\n",
       " 'evelyn']"
      ]
     },
     "execution_count": 2,
     "metadata": {},
     "output_type": "execute_result"
    }
   ],
   "source": [
    "words = open('../data/names.txt','r').read().splitlines()\n",
    "words[:10]"
   ]
  },
  {
   "cell_type": "code",
   "execution_count": null,
   "metadata": {},
   "outputs": [],
   "source": [
    "chars = sorted(set(''.join(words)))\n",
    "stoi = {s:i+1 for i,s in enumerate(chars)}\n",
    "stoi['.'] = 0\n",
    "itos = {i:s for s,i in stoi.items()}"
   ]
  },
  {
   "cell_type": "code",
   "execution_count": null,
   "metadata": {},
   "outputs": [],
   "source": [
    "block_size = 3\n",
    "def build_dataset(words):\n",
    "    x,y = list(),list()\n",
    "    for word in words:\n",
    "        context=[0]*block_size\n",
    "        # context is the vector representation\n",
    "        for character in word+'.':\n",
    "            ix = stoi[character]\n",
    "            x.append(context)\n",
    "            y.append(ix)\n",
    "            # print(''.join(itos[i] for i in context),'--->',character)\n",
    "            context = context[1:] + [ix]\n",
    "    X = torch.tensor(x)\n",
    "    Y = torch.tensor(y)\n",
    "    return X,Y"
   ]
  },
  {
   "cell_type": "code",
   "execution_count": null,
   "metadata": {},
   "outputs": [],
   "source": [
    "random.seed(42)\n",
    "random.shuffle(words)\n",
    "n1 = int(0.8*len(words))\n",
    "n2 = int(0.9*len(words))\n",
    "\n",
    "train_X,train_Y = build_dataset(words[:n1])\n",
    "dev_X,dev_Y = build_dataset(words[n1:n2])\n",
    "test_X,test_Y = build_dataset(words[n2:])"
   ]
  },
  {
   "cell_type": "code",
   "execution_count": null,
   "metadata": {},
   "outputs": [
    {
     "name": "stdout",
     "output_type": "stream",
     "text": [
      "Total number of parameters: 12297\n"
     ]
    }
   ],
   "source": [
    "n_emb = 10\n",
    "n_hidden = 200\n",
    "vocab_size=27\n",
    "torch.manual_seed(2147483647)\n",
    "generator = torch.Generator()\n",
    "lookup_table = torch.randn((vocab_size,n_emb),generator=generator)\n",
    "# W1 = torch.randn((n_emb * block_size ,n_hidden),generator=generator) * ((5/3)/((n_emb * block_size)**0.5))\n",
    "# b1 = torch.randn((n_hidden),generator=generator) * 0.1\n",
    "# W2 = torch.randn((n_hidden,vocab_size),generator=generator) * 0.01\n",
    "# b2 = torch.randn((vocab_size),generator=generator) * 0\n",
    "\n",
    "W1 = torch.zeros((n_emb * block_size ,n_hidden))\n",
    "b1 = torch.zeros((n_hidden))\n",
    "W2 = torch.zeros((n_hidden,vocab_size))\n",
    "b2 = torch.zeros((vocab_size))\n",
    "\n",
    "bngain = torch.ones((1,n_hidden))\n",
    "bnbias = torch.zeros((1,n_hidden))\n",
    "bnmean_running = torch.zeros((1,n_hidden))\n",
    "bnstd_running = torch.ones((1,n_hidden))\n",
    "\n",
    "\n",
    "parameters=[lookup_table,W1,b1,W2,b2,bngain,bnbias]\n",
    "for p in parameters:\n",
    "    p.requires_grad = True\n",
    "print(f'Total number of parameters: {sum(p.nelement() for p in parameters)}')"
   ]
  },
  {
   "cell_type": "code",
   "execution_count": null,
   "metadata": {},
   "outputs": [],
   "source": [
    "step_i = list()\n",
    "losses = list()"
   ]
  },
  {
   "cell_type": "code",
   "execution_count": null,
   "metadata": {},
   "outputs": [
    {
     "name": "stdout",
     "output_type": "stream",
     "text": [
      "      0/ 200000: nan\n",
      "  10000/ 200000: nan\n",
      "  20000/ 200000: nan\n",
      "  30000/ 200000: nan\n",
      "  40000/ 200000: nan\n",
      "  50000/ 200000: nan\n",
      "  60000/ 200000: nan\n",
      "  70000/ 200000: nan\n",
      "  80000/ 200000: nan\n",
      "  90000/ 200000: nan\n",
      " 100000/ 200000: nan\n"
     ]
    },
    {
     "ename": "KeyboardInterrupt",
     "evalue": "",
     "output_type": "error",
     "traceback": [
      "\u001b[0;31m---------------------------------------------------------------------------\u001b[0m",
      "\u001b[0;31mKeyboardInterrupt\u001b[0m                         Traceback (most recent call last)",
      "Cell \u001b[0;32mIn[25], line 9\u001b[0m\n\u001b[1;32m      7\u001b[0m embedding \u001b[38;5;241m=\u001b[39m embedding\u001b[38;5;241m.\u001b[39mview(embedding\u001b[38;5;241m.\u001b[39mshape[\u001b[38;5;241m0\u001b[39m],\u001b[38;5;241m-\u001b[39m\u001b[38;5;241m1\u001b[39m)\n\u001b[1;32m      8\u001b[0m hpreact \u001b[38;5;241m=\u001b[39m  embedding \u001b[38;5;241m@\u001b[39m W1 \u001b[38;5;241m+\u001b[39m b1\n\u001b[0;32m----> 9\u001b[0m bnmean_i \u001b[38;5;241m=\u001b[39m \u001b[43mhpreact\u001b[49m\u001b[38;5;241;43m.\u001b[39;49m\u001b[43mmean\u001b[49m\u001b[43m(\u001b[49m\u001b[38;5;241;43m0\u001b[39;49m\u001b[43m,\u001b[49m\u001b[43mkeepdims\u001b[49m\u001b[38;5;241;43m=\u001b[39;49m\u001b[38;5;28;43;01mTrue\u001b[39;49;00m\u001b[43m)\u001b[49m\n\u001b[1;32m     10\u001b[0m bnstd_i \u001b[38;5;241m=\u001b[39m hpreact\u001b[38;5;241m.\u001b[39mstd(\u001b[38;5;241m0\u001b[39m,keepdims\u001b[38;5;241m=\u001b[39m\u001b[38;5;28;01mTrue\u001b[39;00m)\n\u001b[1;32m     11\u001b[0m hpreact \u001b[38;5;241m=\u001b[39m bngain \u001b[38;5;241m*\u001b[39m (hpreact \u001b[38;5;241m-\u001b[39m bnmean_i)\u001b[38;5;241m/\u001b[39mbnstd_i \u001b[38;5;241m+\u001b[39m bnbias\n",
      "\u001b[0;31mKeyboardInterrupt\u001b[0m: "
     ]
    }
   ],
   "source": [
    "epochs = 200000\n",
    "batch_size = 32\n",
    "for i in range(epochs):\n",
    "    ix = torch. randint(0, train_X.shape[0], (batch_size,), generator=generator)\n",
    "    Xb, Yb = train_X[ix], train_Y[ix] # batch X,Y\n",
    "    embedding = lookup_table[train_X[ix]]\n",
    "    embedding = embedding.view(embedding.shape[0],-1)\n",
    "    hpreact =  embedding @ W1 + b1\n",
    "    bnmean_i = hpreact.mean(0,keepdims=True)\n",
    "    bnstd_i = hpreact.std(0,keepdims=True)\n",
    "    hpreact = bngain * (hpreact - bnmean_i)/bnstd_i + bnbias\n",
    "\n",
    "    with torch.no_grad():\n",
    "        bnmean_running = 0.999* bnmean_running + 0.001* bnmean_i\n",
    "        bnstd_running = 0.999* bnstd_running + 0.001* bnstd_i\n",
    "\n",
    "\n",
    "    h = torch.tanh(hpreact)\n",
    "    logits = h @ W2 + b2\n",
    "    loss = F.cross_entropy(logits, Yb)\n",
    "    for p in parameters:\n",
    "        p.grad = None\n",
    "    loss.backward()\n",
    "\n",
    "    if i< 100000:lr=0.1 \n",
    "    else:lr=0.01\n",
    "    for p in parameters:\n",
    "        p.data += -lr * p.grad\n",
    "    \n",
    "    step_i.append(i)\n",
    "    losses.append(loss.log10().item())\n",
    "\n",
    "    if i%10000 == 0:\n",
    "        print(f\"{i:7d}/{epochs:7d}: {loss.item():.4f}\")\n",
    "    # break"
   ]
  },
  {
   "cell_type": "code",
   "execution_count": null,
   "metadata": {},
   "outputs": [],
   "source": [
    "with torch.no_grad():\n",
    "# pass the training set through\n",
    "    emb = lookup_table[train_X]\n",
    "    embcat = emb. view(emb.shape [0], -1)\n",
    "    hpreact = embcat @ W1 + b1\n",
    "    # measure the mean/std over the entire training set\n",
    "    bnmean = hpreact.mean(0, keepdim=True)\n",
    "    bstd = hpreact.std(0, keepdim=True)"
   ]
  },
  {
   "cell_type": "code",
   "execution_count": null,
   "metadata": {},
   "outputs": [
    {
     "name": "stdout",
     "output_type": "stream",
     "text": [
      "train_loss=2.0696 \n",
      "dev_loss=2.1143 \n",
      "test_loss=2.1159\n"
     ]
    },
    {
     "data": {
      "text/plain": [
       "'train_loss=2.0640 \\ndev_loss=2.1154 \\ntest_loss=2.1157'"
      ]
     },
     "execution_count": 44,
     "metadata": {},
     "output_type": "execute_result"
    }
   ],
   "source": [
    "@torch.no_grad() #this decorator tells torch to turn off gradient tracking for this function\n",
    "def split_loss(X,y):\n",
    "    embedding = lookup_table[X]\n",
    "    embedding = embedding.view(-1,n_emb * block_size)\n",
    "    hpreact = embedding @ W1 + b1\n",
    "    hpreact = bngain * (hpreact - bnmean)/bstd + bnbias\n",
    "    h = torch.tanh(hpreact)\n",
    "    logits = h @ W2 + b2\n",
    "    loss = F.cross_entropy(logits, y)\n",
    "    return loss.item()\n",
    "print(f\"train_loss={split_loss(train_X,train_Y):.4f} \\ndev_loss={split_loss(dev_X,dev_Y):.4f} \\ntest_loss={split_loss(test_X,test_Y):.4f}\")\n",
    "\n",
    "'''train_loss=2.0743 \n",
    "dev_loss=2.1350 \n",
    "test_loss=2.1360'''\n",
    "\n",
    "'''train_loss=2.1027 \n",
    "dev_loss=2.1360 \n",
    "test_loss=2.1341'''\n",
    "\n",
    "'''train_loss=2.0640 \n",
    "dev_loss=2.1154 \n",
    "test_loss=2.1157'''"
   ]
  },
  {
   "cell_type": "code",
   "execution_count": null,
   "metadata": {},
   "outputs": [
    {
     "data": {
      "text/plain": [
       "[<matplotlib.lines.Line2D at 0x108062e60>]"
      ]
     },
     "execution_count": 33,
     "metadata": {},
     "output_type": "execute_result"
    },
    {
     "data": {
      "image/png": "[encoded data removed]",
      "text/plain": [
       "<Figure size 640x480 with 1 Axes>"
      ]
     },
     "metadata": {},
     "output_type": "display_data"
    }
   ],
   "source": [
    "plt.plot(losses)"
   ]
  },
  {
   "cell_type": "code",
   "execution_count": null,
   "metadata": {},
   "outputs": [
    {
     "data": {
      "text/plain": [
       "<matplotlib.image.AxesImage at 0x162949d80>"
      ]
     },
     "execution_count": 56,
     "metadata": {},
     "output_type": "execute_result"
    },
    {
     "data": {
      "image/png": "[encoded data removed]",
      "text/plain": [
       "<Figure size 2000x1000 with 1 Axes>"
      ]
     },
     "metadata": {},
     "output_type": "display_data"
    }
   ],
   "source": [
    "plt.figure(figsize=(20,10))\n",
    "plt.imshow(h.abs()>99, cmap=\"gray\", interpolation='nearest')"
   ]
  },
  {
   "cell_type": "code",
   "execution_count": null,
   "metadata": {},
   "outputs": [
    {
     "data": {
      "text/plain": [
       "(array([884., 193., 111., 101.,  70.,  85.,  74.,  54.,  50.,  49.,  40.,\n",
       "         43.,  32.,  40.,  46.,  50.,  49.,  50.,  62.,  62.,  63.,  85.,\n",
       "        135., 251., 445., 436., 292., 133.,  92.,  51.,  63.,  55.,  48.,\n",
       "         46.,  42.,  48.,  48.,  51.,  46.,  49.,  65.,  57.,  68.,  56.,\n",
       "         68.,  88., 115., 140., 211., 908.]),\n",
       " array([-1.  , -0.96, -0.92, -0.88, -0.84, -0.8 , -0.76, -0.72, -0.68,\n",
       "        -0.64, -0.6 , -0.56, -0.52, -0.48, -0.44, -0.4 , -0.36, -0.32,\n",
       "        -0.28, -0.24, -0.2 , -0.16, -0.12, -0.08, -0.04,  0.  ,  0.04,\n",
       "         0.08,  0.12,  0.16,  0.2 ,  0.24,  0.28,  0.32,  0.36,  0.4 ,\n",
       "         0.44,  0.48,  0.52,  0.56,  0.6 ,  0.64,  0.68,  0.72,  0.76,\n",
       "         0.8 ,  0.84,  0.88,  0.92,  0.96,  1.  ]),\n",
       " <BarContainer object of 50 artists>)"
      ]
     },
     "execution_count": 58,
     "metadata": {},
     "output_type": "execute_result"
    },
    {
     "data": {
      "image/png": "[encoded data removed]",
      "text/plain": [
       "<Figure size 640x480 with 1 Axes>"
      ]
     },
     "metadata": {},
     "output_type": "display_data"
    }
   ],
   "source": [
    "plt.hist(h.view(-1).tolist(), 50)"
   ]
  },
  {
   "cell_type": "markdown",
   "metadata": {},
   "source": [
    "# 3. Pytorchifying the code"
   ]
  },
  {
   "cell_type": "code",
   "execution_count": 1,
   "metadata": {},
   "outputs": [],
   "source": [
    "import torch\n",
    "import torch.nn.functional as F\n",
    "import matplotlib.pyplot as plt\n",
    "import random"
   ]
  },
  {
   "cell_type": "code",
   "execution_count": 2,
   "metadata": {},
   "outputs": [
    {
     "data": {
      "text/plain": [
       "['emma',\n",
       " 'olivia',\n",
       " 'ava',\n",
       " 'isabella',\n",
       " 'sophia',\n",
       " 'charlotte',\n",
       " 'mia',\n",
       " 'amelia',\n",
       " 'harper',\n",
       " 'evelyn']"
      ]
     },
     "execution_count": 2,
     "metadata": {},
     "output_type": "execute_result"
    }
   ],
   "source": [
    "words = open('../data/names.txt','r').read().splitlines()\n",
    "words[:10]"
   ]
  },
  {
   "cell_type": "code",
   "execution_count": 3,
   "metadata": {},
   "outputs": [],
   "source": [
    "chars = sorted(set(''.join(words)))\n",
    "stoi = {s:i+1 for i,s in enumerate(chars)}\n",
    "stoi['.'] = 0\n",
    "itos = {i:s for s,i in stoi.items()}"
   ]
  },
  {
   "cell_type": "code",
   "execution_count": 4,
   "metadata": {},
   "outputs": [],
   "source": [
    "block_size = 3\n",
    "def build_dataset(words):\n",
    "    x,y = list(),list()\n",
    "    for word in words:\n",
    "        context=[0]*block_size\n",
    "        # context is the vector representation\n",
    "        for character in word+'.':\n",
    "            ix = stoi[character]\n",
    "            x.append(context)\n",
    "            y.append(ix)\n",
    "            # print(''.join(itos[i] for i in context),'--->',character)\n",
    "            context = context[1:] + [ix]\n",
    "    X = torch.tensor(x)\n",
    "    Y = torch.tensor(y)\n",
    "    return X,Y"
   ]
  },
  {
   "cell_type": "code",
   "execution_count": 5,
   "metadata": {},
   "outputs": [],
   "source": [
    "random.seed(42)\n",
    "random.shuffle(words)\n",
    "n1 = int(0.8*len(words))\n",
    "n2 = int(0.9*len(words))\n",
    "\n",
    "train_X,train_Y = build_dataset(words[:n1])\n",
    "dev_X,dev_Y = build_dataset(words[n1:n2])\n",
    "test_X,test_Y = build_dataset(words[n2:])"
   ]
  },
  {
   "cell_type": "code",
   "execution_count": 6,
   "metadata": {},
   "outputs": [],
   "source": [
    "class Linear:\n",
    "    def __init__(self,in_features,out_features,bias=True):\n",
    "        self.weights = torch.randn((in_features,out_features),generator=generator)/(in_features**0.5)\n",
    "        if bias:\n",
    "            self.bias = torch.zeros(out_features)\n",
    "        else:\n",
    "            self.bias = None\n",
    "    def __call__(self,x):\n",
    "        self.out = x @ self.weights\n",
    "        if self.bias is not None:\n",
    "            self.out += self.bias\n",
    "        return self.out\n",
    "    def parameters(self):\n",
    "        return [self.weights] + ([] if self.bias is None else [self.bias])\n",
    "\n",
    "class BatchNorm1D:\n",
    "    def __init__(self,dim,eps=1e-5,momentum=0.5):\n",
    "        self.eps = eps\n",
    "        self.momentum = momentum\n",
    "        self.training = True\n",
    "        # parameters trained with backprop\n",
    "        self.gamma = torch.ones (dim)\n",
    "        self. beta = torch.zeros (dim)\n",
    "        # buffers (trained with a running 'momentum update')\n",
    "        self. running_mean = torch.zeros (dim)\n",
    "        self. running_var = torch.ones (dim)\n",
    "    def __call__(self, x):\n",
    "        # calculate the forward pass\n",
    "        if self.training:\n",
    "            xmean = x.mean(0, keepdim=True) # batch mean\n",
    "            xvar = x.var(0, keepdim=True) # batch variance\n",
    "        else:\n",
    "            xmean = self. running_mean\n",
    "            xvar = self. running_var\n",
    "        xhat = (x - xmean) / torch.sqrt(xvar + self.eps) # normalize to unit variance\n",
    "        self.out = self.gamma * xhat + self. beta\n",
    "        # update the buffers\n",
    "        if self.training:\n",
    "            with torch.no_grad():\n",
    "                self. running_mean = (1 - self.momentum) * self. running_mean + self.momentum * xmean\n",
    "                self. running_var = (1 - self.momentum) * self. running_var + self.momentum * xvar\n",
    "        return self.out\n",
    "\n",
    "    def parameters(self):\n",
    "        return [self.gamma, self.beta]\n",
    "class Tanh:\n",
    "    def __call__(self,x):\n",
    "        self.out = torch.tanh(x)\n",
    "        return self.out\n",
    "    def parameters(self):\n",
    "        return []"
   ]
  },
  {
   "cell_type": "code",
   "execution_count": 7,
   "metadata": {},
   "outputs": [
    {
     "name": "stdout",
     "output_type": "stream",
     "text": [
      "47024\n"
     ]
    }
   ],
   "source": [
    "n_emb = 10\n",
    "n_hidden = 100\n",
    "block_size = 3\n",
    "vocab_size = 27\n",
    "generator = torch.Generator().manual_seed(2147483647)\n",
    "\n",
    "lookup_table = torch.randn((vocab_size,n_emb),generator=generator)\n",
    "layers = [\n",
    "    Linear(n_emb*block_size,n_hidden,bias=False),BatchNorm1D(n_hidden) ,Tanh(),\n",
    "    Linear(n_hidden,n_hidden,bias=False),BatchNorm1D(n_hidden) ,Tanh(),\n",
    "    Linear(n_hidden,n_hidden,bias=False),BatchNorm1D(n_hidden) ,Tanh(),\n",
    "    Linear(n_hidden,n_hidden,bias=False),BatchNorm1D(n_hidden) ,Tanh(),\n",
    "    Linear(n_hidden,n_hidden,bias=False),BatchNorm1D(n_hidden) ,Tanh(),\n",
    "    Linear(n_hidden,vocab_size,bias=False), BatchNorm1D(vocab_size)\n",
    "]\n",
    "with torch.no_grad():\n",
    "    # layers[-1].weights *= 0.1\n",
    "    layers[-1].gamma *= 0.1\n",
    "    for layer in layers [:-1]: \n",
    "        if isinstance(layer, Linear):\n",
    "            layer.weights *= 1.0\n",
    "parameters = [lookup_table] + [p for layer in layers for p in layer.parameters ()]\n",
    "print(sum(p.nelement() for p in parameters))\n",
    "for p in parameters:\n",
    "    p.requires_grad = True"
   ]
  },
  {
   "cell_type": "code",
   "execution_count": 8,
   "metadata": {},
   "outputs": [
    {
     "name": "stdout",
     "output_type": "stream",
     "text": [
      "      0/200000: 3.2870\n",
      "  10000/200000: 2.3273\n",
      "  20000/200000: 2.1019\n",
      "  30000/200000: 1.9020\n",
      "  40000/200000: 2.1643\n",
      "  50000/200000: 2.1520\n",
      "  60000/200000: 1.7767\n",
      "  70000/200000: 2.1514\n",
      "  80000/200000: 2.3802\n",
      "  90000/200000: 1.9338\n",
      " 100000/200000: 2.3943\n",
      " 110000/200000: 2.1620\n",
      " 120000/200000: 2.1407\n",
      " 130000/200000: 2.0210\n",
      " 140000/200000: 1.7178\n",
      " 150000/200000: 1.9392\n",
      " 160000/200000: 1.9820\n",
      " 170000/200000: 2.0205\n",
      " 180000/200000: 2.2461\n",
      " 190000/200000: 1.9765\n"
     ]
    }
   ],
   "source": [
    "epochs = 200000\n",
    "batch_size = 32\n",
    "losses = list()\n",
    "for i in range(epochs):\n",
    "    ix = torch.randint(0,train_X.shape[0],(batch_size,),generator=generator)\n",
    "    Xb,Yb = train_X[ix],train_Y[ix]\n",
    "    embedding = lookup_table[Xb]\n",
    "    x = embedding.view(embedding.shape[0],-1)\n",
    "    for layer in layers:\n",
    "        x = layer(x)\n",
    "    loss = F.cross_entropy(x,Yb)\n",
    "    losses.append(loss)\n",
    "    for layer in layers:\n",
    "        layer.out.retain_grad()\n",
    "    for p in parameters:\n",
    "        p.grad = None\n",
    "    loss.backward()\n",
    "    lr = 0.1 if i<100000 else 0.01\n",
    "    for p in parameters:\n",
    "        p.data += -lr*p.grad\n",
    "    if i%10000 == 0:\n",
    "        print(f\"{i:7d}/{epochs:4d}: {loss.item():.4f}\")"
   ]
  },
  {
   "cell_type": "code",
   "execution_count": 9,
   "metadata": {},
   "outputs": [],
   "source": [
    "with torch.no_grad():\n",
    "# pass the training set through\n",
    "    emb = lookup_table[train_X]\n",
    "    x = emb. view(emb.shape [0], -1)\n",
    "    for layer in layers:\n",
    "        x = layer(x)"
   ]
  },
  {
   "cell_type": "code",
   "execution_count": 10,
   "metadata": {},
   "outputs": [
    {
     "name": "stdout",
     "output_type": "stream",
     "text": [
      "train_loss=2.0066 \n",
      "dev_loss=2.0792 \n",
      "test_loss=2.0811\n"
     ]
    },
    {
     "data": {
      "text/plain": [
       "'train_loss=2.0640 \\ndev_loss=2.1154 \\ntest_loss=2.1157'"
      ]
     },
     "execution_count": 10,
     "metadata": {},
     "output_type": "execute_result"
    }
   ],
   "source": [
    "@torch.no_grad() #this decorator tells torch to turn off gradient tracking for this function\n",
    "def split_loss(X,y):\n",
    "    embedding = lookup_table[X]\n",
    "    x = embedding.view(-1,n_emb * block_size)\n",
    "    for layer in layers:\n",
    "        x = layer(x)\n",
    "    loss = F.cross_entropy(x, y)\n",
    "    return loss.item()\n",
    "print(f\"train_loss={split_loss(train_X,train_Y):.4f} \\ndev_loss={split_loss(dev_X,dev_Y):.4f} \\ntest_loss={split_loss(test_X,test_Y):.4f}\")\n",
    "\n",
    "'''train_loss=2.0743 \n",
    "dev_loss=2.1350 \n",
    "test_loss=2.1360'''\n",
    "\n",
    "'''train_loss=2.1027 \n",
    "dev_loss=2.1360 \n",
    "test_loss=2.1341'''\n",
    "\n",
    "'''train_loss=2.0640 \n",
    "dev_loss=2.1154 \n",
    "test_loss=2.1157'''"
   ]
  },
  {
   "cell_type": "code",
   "execution_count": 13,
   "metadata": {},
   "outputs": [
    {
     "name": "stdout",
     "output_type": "stream",
     "text": [
      "carmahzato\n",
      "harli\n",
      "jari\n",
      "reigh\n",
      "skanden\n",
      "jazhith\n",
      "deliah\n",
      "jareen\n",
      "nellara\n",
      "chaiivia\n",
      "leigh\n",
      "ham\n",
      "joce\n",
      "quinthoroine\n",
      "liven\n",
      "corathoniearyxia\n",
      "kaellissa\n",
      "med\n",
      "edi\n",
      "abette\n"
     ]
    }
   ],
   "source": [
    "# Sampling:\n",
    "for layer in layers:\n",
    "    layer.training=False\n",
    "generator_inference = torch.Generator().manual_seed(2147483647 + 10)\n",
    "for _ in range(20):\n",
    "    out = []\n",
    "    context = [0] * block_size\n",
    "    while True:\n",
    "        embedding_sample = lookup_table[torch.tensor([context])]\n",
    "        x = embedding_sample.view(embedding_sample.shape[0],-1)\n",
    "        for layer in layers:\n",
    "            x = layer(x)\n",
    "        logits = x\n",
    "        probs = F.softmax(logits, dim=1)\n",
    "        ix = torch.multinomial(probs, num_samples=1,generator=generator_inference).item()\n",
    "        context = context[1:] + [ix]\n",
    "        if ix == 0:\n",
    "            break\n",
    "        out.append(ix)\n",
    "    print(''.join(itos[i] for i in out))"
   ]
  },
  {
   "cell_type": "code",
   "execution_count": null,
   "metadata": {},
   "outputs": [],
   "source": []
  }
 ],
 "metadata": {
  "kernelspec": {
   "display_name": "deeplearning",
   "language": "python",
   "name": "python3"
  },
  "language_info": {
   "codemirror_mode": {
    "name": "ipython",
    "version": 3
   },
   "file_extension": ".py",
   "mimetype": "text/x-python",
   "name": "python",
   "nbconvert_exporter": "python",
   "pygments_lexer": "ipython3",
   "version": "3.10.14"
  }
 },
 "nbformat": 4,
 "nbformat_minor": 2
}
