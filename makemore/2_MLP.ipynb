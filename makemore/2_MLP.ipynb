{
 "cells": [
  {
   "cell_type": "markdown",
   "metadata": {},
   "source": [
    "based on: https://www.jmlr.org/papers/volume3/bengio03a/bengio03a.pdf"
   ]
  },
  {
   "cell_type": "code",
   "execution_count": 1,
   "metadata": {},
   "outputs": [],
   "source": [
    "import torch\n",
    "import torch.nn.functional as F\n",
    "import matplotlib.pyplot as plt"
   ]
  },
  {
   "cell_type": "code",
   "execution_count": 2,
   "metadata": {},
   "outputs": [
    {
     "data": {
      "text/plain": [
       "['emma',\n",
       " 'olivia',\n",
       " 'ava',\n",
       " 'isabella',\n",
       " 'sophia',\n",
       " 'charlotte',\n",
       " 'mia',\n",
       " 'amelia',\n",
       " 'harper',\n",
       " 'evelyn']"
      ]
     },
     "execution_count": 2,
     "metadata": {},
     "output_type": "execute_result"
    }
   ],
   "source": [
    "words = open('../data/names.txt','r').read().splitlines()\n",
    "words[:10]"
   ]
  },
  {
   "cell_type": "code",
   "execution_count": 3,
   "metadata": {},
   "outputs": [],
   "source": [
    "chars = sorted(set(''.join(words)))\n",
    "stoi = {s:i+1 for i,s in enumerate(chars)}\n",
    "stoi['.'] = 0\n",
    "itos = {i:s for s,i in stoi.items()}"
   ]
  },
  {
   "cell_type": "code",
   "execution_count": 4,
   "metadata": {},
   "outputs": [],
   "source": [
    "block_size = 3\n",
    "x,y = list(),list()\n",
    "for word in words:\n",
    "    context=[0]*block_size\n",
    "    # context is the vector representation\n",
    "    for character in word+'.':\n",
    "        ix = stoi[character]\n",
    "        x.append(context)\n",
    "        y.append(ix)\n",
    "        # print(''.join(itos[i] for i in context),'--->',character)\n",
    "        context = context[1:] + [ix]\n",
    "X = torch.tensor(x)\n",
    "Y = torch.tensor(y)"
   ]
  },
  {
   "cell_type": "code",
   "execution_count": 109,
   "metadata": {},
   "outputs": [
    {
     "data": {
      "text/plain": [
       "torch.Size([228146, 3])"
      ]
     },
     "execution_count": 109,
     "metadata": {},
     "output_type": "execute_result"
    }
   ],
   "source": [
    "X.shape"
   ]
  },
  {
   "cell_type": "markdown",
   "metadata": {},
   "source": [
    "# 1."
   ]
  },
  {
   "cell_type": "markdown",
   "metadata": {},
   "source": [
    "## 1.1: Building lookup table\n",
    "- converting 27 characters into 2d space"
   ]
  },
  {
   "cell_type": "code",
   "execution_count": 79,
   "metadata": {},
   "outputs": [],
   "source": [
    "generator = torch.Generator().manual_seed(2147483647)\n",
    "lookup_table = torch.randn((27,2),generator=generator,requires_grad=True)\n",
    "embedding = lookup_table[X]"
   ]
  },
  {
   "cell_type": "code",
   "execution_count": 80,
   "metadata": {},
   "outputs": [
    {
     "data": {
      "text/plain": [
       "torch.Size([32, 3, 2])"
      ]
     },
     "execution_count": 80,
     "metadata": {},
     "output_type": "execute_result"
    }
   ],
   "source": [
    "embedding.shape"
   ]
  },
  {
   "cell_type": "markdown",
   "metadata": {},
   "source": [
    "## 1.2 Forward Pass"
   ]
  },
  {
   "cell_type": "code",
   "execution_count": 147,
   "metadata": {},
   "outputs": [],
   "source": [
    "W1 = torch.randn((6,100),generator=generator,requires_grad=True)\n",
    "b1 = torch.randn(100,generator=generator,requires_grad=True)\n",
    "W2 = torch.randn((100,27),generator=generator,requires_grad=True)\n",
    "b2 = torch.randn(27,generator=generator,requires_grad=True)\n",
    "parameters = [lookup_table,W1,b1,W2,b2]"
   ]
  },
  {
   "cell_type": "code",
   "execution_count": 82,
   "metadata": {},
   "outputs": [],
   "source": [
    "h = torch.tanh(embedding.view(-1,6) @ W1 + b1)\n",
    "h.shape\n",
    "logits = torch.tanh(h @ W2+b2)\n",
    "loss = F.cross_entropy(logits,Y)"
   ]
  },
  {
   "cell_type": "markdown",
   "metadata": {},
   "source": [
    "## 1.3: Backward Pass"
   ]
  },
  {
   "cell_type": "code",
   "execution_count": null,
   "metadata": {},
   "outputs": [],
   "source": [
    "for p in parameters:\n",
    "    p.grad=None\n",
    "loss.backward()\n",
    "for p in parameters:\n",
    "    p.data += -0.01 * p.grad"
   ]
  },
  {
   "cell_type": "markdown",
   "metadata": {},
   "source": [
    "## 1.4: All together"
   ]
  },
  {
   "cell_type": "code",
   "execution_count": 51,
   "metadata": {},
   "outputs": [],
   "source": []
  },
  {
   "cell_type": "code",
   "execution_count": 23,
   "metadata": {},
   "outputs": [],
   "source": [
    "lr_exp = torch.linspace(-3,0,1000)\n",
    "lrs = 10**lr_exp"
   ]
  },
  {
   "cell_type": "code",
   "execution_count": 95,
   "metadata": {},
   "outputs": [
    {
     "name": "stdout",
     "output_type": "stream",
     "text": [
      "Total no. of elements: 11897\n",
      "i=0 loss=3.6458\n",
      "i=1000 loss=2.9257\n",
      "i=2000 loss=2.8322\n",
      "i=3000 loss=2.5411\n",
      "i=4000 loss=2.8209\n",
      "i=5000 loss=2.7255\n",
      "i=6000 loss=3.0010\n",
      "i=7000 loss=2.9826\n",
      "i=8000 loss=2.7275\n",
      "i=9000 loss=2.7526\n",
      "i=10000 loss=2.4507\n",
      "i=11000 loss=2.5328\n",
      "i=12000 loss=2.4642\n",
      "i=13000 loss=2.7370\n",
      "i=14000 loss=3.0548\n",
      "i=15000 loss=2.6631\n",
      "i=16000 loss=2.5656\n",
      "i=17000 loss=2.4928\n",
      "i=18000 loss=2.7555\n",
      "i=19000 loss=2.5999\n",
      "i=20000 loss=2.7768\n",
      "i=21000 loss=2.9174\n",
      "i=22000 loss=2.2337\n",
      "i=23000 loss=2.8095\n",
      "i=24000 loss=2.7853\n",
      "i=25000 loss=2.7593\n",
      "i=26000 loss=2.4551\n",
      "i=27000 loss=2.9646\n",
      "i=28000 loss=2.6706\n",
      "i=29000 loss=2.7946\n",
      "Average loss = 2.645737409591675\n"
     ]
    }
   ],
   "source": [
    "generator = torch.Generator().manual_seed(2147483647)\n",
    "lookup_table = torch.randn((27,10),generator=generator,requires_grad=True)\n",
    "W1 = torch.randn((30,200),generator=generator,requires_grad=True)\n",
    "b1 = torch.randn(200,generator=generator,requires_grad=True)\n",
    "W2 = torch.randn((200,27),generator=generator,requires_grad=True)\n",
    "b2 = torch.randn(27,generator=generator,requires_grad=True)\n",
    "parameters = [lookup_table,W1,b1,W2,b2]\n",
    "print(f'Total no. of elements: {sum(p.nelement() for p in parameters)}')\n",
    "losses = list()\n",
    "lr_i = list()\n",
    "for i in range(30000):\n",
    "    ix = torch.randint(0,X.shape[0],(32,))\n",
    "    embedding = lookup_table[X[ix]]\n",
    "    h = torch.tanh(embedding.view(-1,30) @ W1 + b1)\n",
    "    logits = torch.tanh(h @ W2+b2)\n",
    "    loss = F.cross_entropy(logits,Y[ix])\n",
    "    losses.append(loss.item())\n",
    "    if i%1000 == 0:\n",
    "        print(f'{i=} loss={loss.item():.4f}')\n",
    "    for p in parameters:\n",
    "        p.grad=None\n",
    "    loss.backward()\n",
    "    for p in parameters:\n",
    "        p.data +=-1* p.grad\n",
    "print(f'Average loss = {loss.item ()}')"
   ]
  },
  {
   "cell_type": "code",
   "execution_count": 87,
   "metadata": {},
   "outputs": [
    {
     "data": {
      "text/plain": [
       "tensor(2.7127, grad_fn=<NllLossBackward0>)"
      ]
     },
     "execution_count": 87,
     "metadata": {},
     "output_type": "execute_result"
    }
   ],
   "source": [
    "embedding = lookup_table[X]\n",
    "h = torch.tanh(embedding.view(-1,6) @ W1 + b1)\n",
    "logits = torch.tanh(h @ W2+b2)\n",
    "loss = F.cross_entropy(logits,Y)\n",
    "loss"
   ]
  },
  {
   "cell_type": "code",
   "execution_count": 43,
   "metadata": {},
   "outputs": [
    {
     "data": {
      "text/plain": [
       "[<matplotlib.lines.Line2D at 0x15a6de050>]"
      ]
     },
     "execution_count": 43,
     "metadata": {},
     "output_type": "execute_result"
    },
    {
     "data": {
      "image/png": "[encoded data removed]",
      "text/plain": [
       "<Figure size 640x480 with 1 Axes>"
      ]
     },
     "metadata": {},
     "output_type": "display_data"
    }
   ],
   "source": [
    "plt.plot(losses)"
   ]
  },
  {
   "cell_type": "code",
   "execution_count": 66,
   "metadata": {},
   "outputs": [
    {
     "data": {
      "text/plain": [
       "tensor(2.6803, grad_fn=<NllLossBackward0>)"
      ]
     },
     "execution_count": 66,
     "metadata": {},
     "output_type": "execute_result"
    }
   ],
   "source": []
  },
  {
   "cell_type": "code",
   "execution_count": 146,
   "metadata": {},
   "outputs": [
    {
     "data": {
      "text/plain": [
       "tensor([ 0.6118,  0.2990,  0.2103, -0.2308, -0.5327,  0.3144],\n",
       "       grad_fn=<SelectBackward0>)"
      ]
     },
     "execution_count": 146,
     "metadata": {},
     "output_type": "execute_result"
    }
   ],
   "source": [
    "W1[:,0]"
   ]
  },
  {
   "cell_type": "code",
   "execution_count": 97,
   "metadata": {},
   "outputs": [
    {
     "data": {
      "image/png": "[encoded data removed]",
      "text/plain": [
       "<Figure size 800x800 with 1 Axes>"
      ]
     },
     "metadata": {},
     "output_type": "display_data"
    }
   ],
   "source": [
    "plt. figure(figsize=(8,8))\n",
    "plt.scatter(lookup_table[:,0].data, lookup_table[:,1] .data, s=200)\n",
    "for i in range(lookup_table.shape[0]):\n",
    "    plt.text(lookup_table[i,0]. item(), lookup_table[i,1].item(), itos[i], ha=\"center\", va=\"center\", color='white')\n",
    "    plt.grid ('minor')"
   ]
  },
  {
   "cell_type": "markdown",
   "metadata": {},
   "source": [
    "# 2. Final Neural Network\n",
    "- After i completed this implementation the names i got were carlah, amille, khi, mili, taty, salayskenrahnee, dellah, jareei, nellara, chaiir, kaleigh, ham, jois, quinthonlee, alian, quinzelogiearynn, jaceelinsley, dae, iia, gian. Which are not bad at all.\n",
    "- I got a train, dev and test loss of 2.1201 ,2.1678 ,2.1719\n",
    "The hyperparameters i used were:\n",
    "    - lookup table size : (27,10)\n",
    "    - input layer size : (30,200) -> 30 because we're giving it essentially 3 words of 10 \"characters\" each (characters are columns)\n",
    "    - output layer size : (200, 27)\n",
    "    - learning rate : 0.1 for <100000 iterations and 0.01 for >100000 iterations\n",
    "    - iterations : 200000\n",
    "    "
   ]
  },
  {
   "cell_type": "code",
   "execution_count": 5,
   "metadata": {},
   "outputs": [],
   "source": [
    "import torch\n",
    "import torch.nn.functional as F\n",
    "import matplotlib.pyplot as plt\n",
    "import random"
   ]
  },
  {
   "cell_type": "code",
   "execution_count": 2,
   "metadata": {},
   "outputs": [
    {
     "data": {
      "text/plain": [
       "['emma',\n",
       " 'olivia',\n",
       " 'ava',\n",
       " 'isabella',\n",
       " 'sophia',\n",
       " 'charlotte',\n",
       " 'mia',\n",
       " 'amelia',\n",
       " 'harper',\n",
       " 'evelyn']"
      ]
     },
     "execution_count": 2,
     "metadata": {},
     "output_type": "execute_result"
    }
   ],
   "source": [
    "words = open('../data/names.txt').read().splitlines()\n",
    "words[:10]"
   ]
  },
  {
   "cell_type": "code",
   "execution_count": 3,
   "metadata": {},
   "outputs": [],
   "source": [
    "chars = sorted(set(''.join(words)))\n",
    "stoi = {s:i+1 for i,s in enumerate(chars)}\n",
    "stoi['.'] = 0\n",
    "itos = {i:s for s,i in stoi.items()}"
   ]
  },
  {
   "cell_type": "code",
   "execution_count": 7,
   "metadata": {},
   "outputs": [],
   "source": [
    "def build_dataset(words):\n",
    "    block_size = 3\n",
    "    x,y = list(),list()\n",
    "    for word in words:\n",
    "        context=[0]*block_size\n",
    "        # context is the vector representation\n",
    "        for character in word+'.':\n",
    "            ix = stoi[character]\n",
    "            x.append(context)\n",
    "            y.append(ix)\n",
    "            # print(''.join(itos[i] for i in context),'--->',character)\n",
    "            context = context[1:] + [ix]\n",
    "    X = torch.tensor(x)\n",
    "    Y = torch.tensor(y)\n",
    "    return X,Y"
   ]
  },
  {
   "cell_type": "code",
   "execution_count": 8,
   "metadata": {},
   "outputs": [],
   "source": [
    "random.seed(42)\n",
    "random.shuffle(words)\n",
    "n1 = int(0.8*len(words))\n",
    "n2 = int(0.9*len(words))\n",
    "\n",
    "train_X,train_Y = build_dataset(words[:n1])\n",
    "dev_X,dev_Y = build_dataset(words[n1:n2])\n",
    "test_X,test_Y = build_dataset(words[n2:])"
   ]
  },
  {
   "cell_type": "code",
   "execution_count": 146,
   "metadata": {},
   "outputs": [
    {
     "name": "stdout",
     "output_type": "stream",
     "text": [
      "Total number of parameters: 11897\n"
     ]
    }
   ],
   "source": [
    "torch.manual_seed(2147483647)\n",
    "generator = torch.Generator()\n",
    "lookup_table = torch.randn((27,10),generator=generator,requires_grad=True)\n",
    "W1 = torch.randn((30,200),generator=generator,requires_grad=True)\n",
    "b1 = torch.randn((200),generator=generator,requires_grad=True)\n",
    "W2 = torch.randn((200,27),generator=generator,requires_grad=True)\n",
    "b2 = torch.randn((27),generator=generator,requires_grad=True)\n",
    "parameters=[lookup_table,W1,b1,W2,b2]\n",
    "print(f'Total number of parameters: {sum(p.nelement() for p in parameters)}')"
   ]
  },
  {
   "cell_type": "markdown",
   "metadata": {},
   "source": [
    "0.01 didn't decrease loss as much <br>\n",
    "0.1 decreases it pretty fast <br>\n",
    "10 sucks <br>"
   ]
  },
  {
   "cell_type": "code",
   "execution_count": 147,
   "metadata": {},
   "outputs": [],
   "source": [
    "lr_exp = torch.linspace(-2,0,1000)\n",
    "lrs = 10**lr_exp"
   ]
  },
  {
   "cell_type": "code",
   "execution_count": 148,
   "metadata": {},
   "outputs": [],
   "source": [
    "losses = list()\n",
    "step_i = list()\n",
    "lr_i = list()"
   ]
  },
  {
   "cell_type": "code",
   "execution_count": 149,
   "metadata": {},
   "outputs": [
    {
     "name": "stdout",
     "output_type": "stream",
     "text": [
      "i=0 Loss=24.7391\n",
      "i=10000 Loss=2.1443\n",
      "i=20000 Loss=2.1849\n",
      "i=30000 Loss=2.5411\n",
      "i=40000 Loss=2.3022\n",
      "i=50000 Loss=2.4480\n",
      "i=60000 Loss=2.2080\n",
      "i=70000 Loss=1.9915\n",
      "i=80000 Loss=2.2862\n",
      "i=90000 Loss=2.0878\n",
      "i=100000 Loss=2.1726\n",
      "i=110000 Loss=2.3715\n",
      "i=120000 Loss=2.1762\n",
      "i=130000 Loss=2.4332\n",
      "i=140000 Loss=2.0590\n",
      "i=150000 Loss=2.1970\n",
      "i=160000 Loss=1.9043\n",
      "i=170000 Loss=2.1024\n",
      "i=180000 Loss=2.1059\n",
      "i=190000 Loss=1.9965\n"
     ]
    }
   ],
   "source": [
    "for i in range(200000):\n",
    "    ix = torch.randint(0,train_X.shape[0],(32,))\n",
    "    embedding = lookup_table[train_X[ix]]\n",
    "    h = torch.tanh(embedding.view(-1,30) @ W1 + b1)\n",
    "    logits = h @ W2 + b2\n",
    "    loss = F.cross_entropy(logits, train_Y[ix])\n",
    "    for p in parameters:\n",
    "        p.grad = None\n",
    "    loss.backward()\n",
    "    # lr = lrs[i]\n",
    "    # lr_i.append(lr_exp[i])\n",
    "    if i< 100000:lr=0.1 \n",
    "    else:lr=0.01\n",
    "    for p in parameters:\n",
    "        p.data += -lr * p.grad\n",
    "    step_i.append(i)\n",
    "    if i%10000 == 0:\n",
    "        print(f\"{i=} Loss={loss.item():.4f}\")\n",
    "    losses.append(loss.item())"
   ]
  },
  {
   "cell_type": "code",
   "execution_count": 154,
   "metadata": {},
   "outputs": [
    {
     "name": "stdout",
     "output_type": "stream",
     "text": [
      "train_loss=2.1201 \n",
      "dev_loss=2.1678 \n",
      "test_loss=2.1719\n"
     ]
    }
   ],
   "source": [
    "embedding = lookup_table[train_X]\n",
    "h = torch.tanh(embedding.view(-1,30) @ W1 + b1)\n",
    "logits = h @ W2 + b2\n",
    "train_loss = F.cross_entropy(logits, train_Y)\n",
    "\n",
    "embedding = lookup_table[test_X]\n",
    "h = torch.tanh(embedding.view(-1,30) @ W1 + b1)\n",
    "logits = h @ W2 + b2\n",
    "test_loss = F.cross_entropy(logits, test_Y)\n",
    "\n",
    "embedding = lookup_table[dev_X]\n",
    "h = torch.tanh(embedding.view(-1,30) @ W1 + b1)\n",
    "logits = h @ W2 + b2\n",
    "dev_loss = F.cross_entropy(logits, dev_Y)\n",
    "print(f\"train_loss={train_loss.item():.4f} \\ndev_loss={dev_loss.item():.4f} \\ntest_loss={test_loss.item():.4f}\")\n"
   ]
  },
  {
   "cell_type": "code",
   "execution_count": 153,
   "metadata": {},
   "outputs": [
    {
     "data": {
      "text/plain": [
       "[<matplotlib.lines.Line2D at 0x14a8afee0>]"
      ]
     },
     "execution_count": 153,
     "metadata": {},
     "output_type": "execute_result"
    },
    {
     "data": {
      "image/png": "[encoded data removed]",
      "text/plain": [
       "<Figure size 640x480 with 1 Axes>"
      ]
     },
     "metadata": {},
     "output_type": "display_data"
    }
   ],
   "source": [
    "plt.plot(step_i,losses)"
   ]
  },
  {
   "cell_type": "code",
   "execution_count": 156,
   "metadata": {},
   "outputs": [
    {
     "name": "stdout",
     "output_type": "stream",
     "text": [
      "carlah\n",
      "amille\n",
      "khi\n",
      "mili\n",
      "taty\n",
      "salayskenrahnee\n",
      "dellah\n",
      "jareei\n",
      "nellara\n",
      "chaiir\n",
      "kaleigh\n",
      "ham\n",
      "jois\n",
      "quinthonlee\n",
      "alian\n",
      "quinzelogiearynn\n",
      "jaceelinsley\n",
      "dae\n",
      "iia\n",
      "gian\n"
     ]
    }
   ],
   "source": [
    "# Sampling:\n",
    "generator_inference = torch.Generator().manual_seed(2147483647 + 10)\n",
    "block_size=3\n",
    "for _ in range(20):\n",
    "    out = []\n",
    "    context = [0] * block_size\n",
    "    while True:\n",
    "        embedding_sample = lookup_table[torch.tensor([context])]\n",
    "        h = torch.tanh(embedding_sample.view(1,-1)@W1 + b1)\n",
    "        logits = h @ W2 + b2\n",
    "        probs = F.softmax(logits, dim=1)\n",
    "        ix = torch.multinomial(probs, num_samples=1,replacement=True,generator=generator_inference).item()\n",
    "        context = context[1:] + [ix]\n",
    "        if ix == 0:\n",
    "            break\n",
    "        out.append(ix)\n",
    "    print(''.join(itos[i] for i in out))"
   ]
  }
 ],
 "metadata": {
  "kernelspec": {
   "display_name": "deeplearning",
   "language": "python",
   "name": "python3"
  },
  "language_info": {
   "codemirror_mode": {
    "name": "ipython",
    "version": 3
   },
   "file_extension": ".py",
   "mimetype": "text/x-python",
   "name": "python",
   "nbconvert_exporter": "python",
   "pygments_lexer": "ipython3",
   "version": "3.10.14"
  }
 },
 "nbformat": 4,
 "nbformat_minor": 2
}
